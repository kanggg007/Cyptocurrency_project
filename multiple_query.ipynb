{
 "cells": [
  {
   "cell_type": "code",
   "execution_count": 1,
   "metadata": {},
   "outputs": [],
   "source": [
    "#import libraries to be used\n",
    "import urllib.request\n",
    "import ssl\n",
    "import json\n",
    "from datetime import datetime\n",
    "import pandas as pd\n",
    "import matplotlib.pyplot as plt\n",
    "import requests"
   ]
  },
  {
   "cell_type": "code",
   "execution_count": 2,
   "metadata": {},
   "outputs": [],
   "source": [
    "#import keys from API and DB\n",
    "#from config2 import db_password\n",
    "#from config import api_key\n",
    "api_key = \"rwch3wki8wwbjrof6pcn\""
   ]
  },
  {
   "cell_type": "code",
   "execution_count": 24,
   "metadata": {},
   "outputs": [],
   "source": [
    "#top 20 coins based on market share\n",
    "coin_list = [\n",
    "'BTC','ETH','USDT','DOT','XRP',\n",
    "'ADA','LINK','LTC','BCH','XLM',\n",
    "'BNB','DOGE','USDC','HEX','UNI',\n",
    "'WBTC','AAVE','BSV','EOS','CEL'\n",
    "]"
   ]
  },
  {
   "cell_type": "code",
   "execution_count": 26,
   "metadata": {},
   "outputs": [
    {
     "name": "stdout",
     "output_type": "stream",
     "text": [
      "BTC: query successful\n",
      "ETH: query successful\n",
      "USDT: query successful\n",
      "DOT: query successful\n",
      "XRP: query successful\n",
      "ADA: query successful\n",
      "LINK: query successful\n",
      "LTC: query successful\n",
      "BCH: query successful\n",
      "XLM: query successful\n",
      "BNB: query successful\n",
      "DOGE: query successful\n",
      "USDC: query successful\n",
      "HEX: query successful\n",
      "UNI: query successful\n",
      "WBTC: query successful\n",
      "AAVE: query successful\n",
      "BSV: query successful\n",
      "EOS: query successful\n",
      "CEL: query successful\n"
     ]
    }
   ],
   "source": [
    "#set id dictionary\n",
    "id_dict={'name':[],'symbol':[],'asset_id':[]}\n",
    "#query coins for past 4 years\n",
    "for coin in coin_list:\n",
    "    #create URL to query\n",
    "    url='https://api.lunarcrush.com/v2?data=assets&key=rwch3wki8wwbjrof6pcn&symbol='+coin+'&data_points=1460&interval=day'\n",
    "    #query API and format into json file\n",
    "    currency_json=requests.get(url).json()\n",
    "    #get coin data\n",
    "    currency_data=currency_json['data']\n",
    "    #extract data dictionary from list\n",
    "    currency_data_dic=currency_data[0]\n",
    "    #extract time series values from dictionary\n",
    "    currency_data_dic['timeSeries']\n",
    "    #create initial dataframe\n",
    "    coin_df=pd.DataFrame(currency_data_dic['timeSeries'])\n",
    "    #add symbol to initial dataframe\n",
    "    coin_df['symbol']=coin\n",
    "    #convert timestamp\n",
    "    coin_df['time']=pd.to_datetime(coin_df['time'], unit='s')\n",
    "    #clean df\n",
    "    cat_to_drop = ['high','low','reddit_comments_score','tweet_sentiment1','tweet_sentiment2','tweet_sentiment3',\n",
    "        'tweet_sentiment4','tweet_sentiment5','tweet_sentiment_impact1','tweet_sentiment_impact2','tweet_sentiment_impact3',\n",
    "        'tweet_sentiment_impact4','tweet_sentiment_impact5','social_score','average_sentiment','sentiment_absolute',\n",
    "        'sentiment_relative','price_score','social_impact_score','correlation_rank','galaxy_score','alt_rank','alt_rank_30d',\n",
    "        'alt_rank_hour_average','market_cap_rank','percent_change_24h_rank','volume_24h_rank','social_volume_24h_rank',\n",
    "        'social_score_24h_rank','social_contributors','social_volume','price_btc','social_volume_global','social_dominance',\n",
    "        'market_cap_global','market_dominance','percent_change_24h','search_average','medium']          \n",
    "    for cat in cat_to_drop:\n",
    "        coin_df = coin_df.drop(columns=cat, axis=1)\n",
    "    #convert NaN to 0\n",
    "    coin_df_clean=coin_df.fillna(0)\n",
    "    #export excelfiles\n",
    "    output_data_file = coin+'.csv'\n",
    "    coin_df.to_csv(output_data_file)\n",
    "    #append key and value to id dictionary\n",
    "    id_dict['name'].append(currency_data_dic['name'])\n",
    "    id_dict['symbol'].append(coin)\n",
    "    id_dict['asset_id'].append(currency_data_dic['id'])\n",
    "    print(coin+': query successful')\n",
    "id_df=pd.DataFrame(id_dict)\n",
    "id_df.to_csv('ids.csv')\n",
    "    \n",
    "    \n",
    "    "
   ]
  },
  {
   "cell_type": "code",
   "execution_count": 27,
   "metadata": {},
   "outputs": [
    {
     "name": "stdout",
     "output_type": "stream",
     "text": [
      "               name symbol  asset_id\n",
      "0           Bitcoin    BTC         1\n",
      "1          Ethereum    ETH         2\n",
      "2            Tether   USDT         7\n",
      "3          Polkadot    DOT      2780\n",
      "4               XRP    XRP         3\n",
      "5           Cardano    ADA        11\n",
      "6         Chainlink   LINK        18\n",
      "7          Litecoin    LTC         4\n",
      "8      Bitcoin Cash    BCH         5\n",
      "9           Stellar    XLM        10\n",
      "10     Binance Coin    BNB         6\n",
      "11         Dogecoin   DOGE        29\n",
      "12         USD Coin   USDC        28\n",
      "13              HEX    HEX      2205\n",
      "14          Uniswap    UNI      3024\n",
      "15  Wrapped Bitcoin   WBTC      1940\n",
      "16             Aave   AAVE      3154\n",
      "17       Bitcoin SV    BSV         9\n",
      "18              EOS    EOS         8\n",
      "19          Celsius    CEL      1930\n"
     ]
    }
   ],
   "source": [
    "print(id_df)"
   ]
  },
  {
   "cell_type": "code",
   "execution_count": null,
   "metadata": {},
   "outputs": [],
   "source": []
  }
 ],
 "metadata": {
  "kernelspec": {
   "display_name": "PythonDat",
   "language": "python",
   "name": "pythondat"
  },
  "language_info": {
   "codemirror_mode": {
    "name": "ipython",
    "version": 3
   },
   "file_extension": ".py",
   "mimetype": "text/x-python",
   "name": "python",
   "nbconvert_exporter": "python",
   "pygments_lexer": "ipython3",
   "version": "3.7.7"
  }
 },
 "nbformat": 4,
 "nbformat_minor": 4
}
