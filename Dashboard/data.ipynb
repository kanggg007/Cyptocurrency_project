{
 "metadata": {
  "language_info": {
   "codemirror_mode": {
    "name": "ipython",
    "version": 3
   },
   "file_extension": ".py",
   "mimetype": "text/x-python",
   "name": "python",
   "nbconvert_exporter": "python",
   "pygments_lexer": "ipython3",
   "version": "3.8.5-final"
  },
  "orig_nbformat": 2,
  "kernelspec": {
   "name": "mlenb",
   "display_name": "mlenb",
   "language": "python"
  }
 },
 "nbformat": 4,
 "nbformat_minor": 2,
 "cells": [
  {
   "cell_type": "code",
   "execution_count": 2,
   "metadata": {},
   "outputs": [],
   "source": [
    "import pandas as pd \n",
    "import numpy as np \n"
   ]
  },
  {
   "cell_type": "code",
   "execution_count": 9,
   "metadata": {},
   "outputs": [],
   "source": [
    "df_btc = pd.read_csv('resources copy/BTC.csv')\n",
    "df_aave = pd.read_csv('resources copy/AAVE.csv')\n",
    "df_bnb = pd.read_csv('resources copy/BNB.csv')\n",
    "d_eth = pd.read_csv('resources copy/ETH.csv')"
   ]
  },
  {
   "cell_type": "code",
   "execution_count": 13,
   "metadata": {},
   "outputs": [],
   "source": [
    "combined_data = pd.concat([df_btc, df_aave, df_bnb, d_eth], axis=0)"
   ]
  },
  {
   "cell_type": "code",
   "execution_count": 15,
   "metadata": {},
   "outputs": [],
   "source": [
    "combined_data = combined_data.drop('Unnamed: 0', axis= True)"
   ]
  },
  {
   "cell_type": "code",
   "execution_count": 35,
   "metadata": {},
   "outputs": [],
   "source": [
    "combined_data['name'] = combined_data['asset_id'].apply(lambda x : \"BTC\"if x ==1 else x)\n",
    "combined_data['name'] = combined_data['asset_id'].apply(lambda x : \"ETH\"if x ==2 else x)\n",
    "combined_data['name'] = combined_data['asset_id'].apply(lambda x : \"BNB\"if x ==6 else x)\n",
    "combined_data['name'] = combined_data['asset_id'].apply(lambda x : \"AAVE\"if x ==3154 else x)"
   ]
  },
  {
   "cell_type": "code",
   "execution_count": 37,
   "metadata": {},
   "outputs": [],
   "source": [
    "combined_data=combined_data.drop('asset_id', axis=1)"
   ]
  },
  {
   "cell_type": "code",
   "execution_count": 39,
   "metadata": {},
   "outputs": [],
   "source": [
    "combined_data.to_csv('test_data')"
   ]
  },
  {
   "cell_type": "code",
   "execution_count": 18,
   "metadata": {},
   "outputs": [],
   "source": [
    "import pandas as pd \n",
    "\n",
    "df = pd.read_csv('test_data')"
   ]
  },
  {
   "cell_type": "code",
   "execution_count": 4,
   "metadata": {},
   "outputs": [],
   "source": [
    "df = df.drop('Unnamed: 0', axis=1)"
   ]
  },
  {
   "cell_type": "code",
   "execution_count": 66,
   "metadata": {},
   "outputs": [
    {
     "output_type": "execute_result",
     "data": {
      "text/plain": [
       "            time         open        close        volume    market_cap  \\\n",
       "273   2019-11-11  8975.280060  8725.853005  1.451144e+10  1.569828e+11   \n",
       "1121  2019-11-11    19.748543    20.076156  1.709973e+08  3.102983e+09   \n",
       "1841  2019-11-11   183.285969   184.755322  5.219993e+09  2.019704e+10   \n",
       "\n",
       "      url_shares  unique_url_shares  reddit_posts  reddit_posts_score  \\\n",
       "273      25592.0            17354.0         351.0              6343.0   \n",
       "1121       212.0              172.0           9.0                49.0   \n",
       "1841      6476.0             3727.0         153.0              1533.0   \n",
       "\n",
       "      reddit_comments  ...  tweet_spam  tweet_followers  tweet_quotes  \\\n",
       "273            1153.0  ...      6618.0      213214914.0         645.0   \n",
       "1121              8.0  ...       566.0        2122630.0          17.0   \n",
       "1841            360.0  ...      4839.0       20955905.0         110.0   \n",
       "\n",
       "      tweet_retweets  tweet_replies  tweet_favorites  news  volatility  \\\n",
       "273          35283.0         2994.0          27314.0  76.0    0.015142   \n",
       "1121           154.0           68.0            517.0   6.0    0.010876   \n",
       "1841          9196.0          449.0           3989.0  51.0    0.009125   \n",
       "\n",
       "      youtube  name  \n",
       "273       NaN   BTC  \n",
       "1121      NaN   BNB  \n",
       "1841      NaN   ETH  \n",
       "\n",
       "[3 rows x 21 columns]"
      ],
      "text/html": "<div>\n<style scoped>\n    .dataframe tbody tr th:only-of-type {\n        vertical-align: middle;\n    }\n\n    .dataframe tbody tr th {\n        vertical-align: top;\n    }\n\n    .dataframe thead th {\n        text-align: right;\n    }\n</style>\n<table border=\"1\" class=\"dataframe\">\n  <thead>\n    <tr style=\"text-align: right;\">\n      <th></th>\n      <th>time</th>\n      <th>open</th>\n      <th>close</th>\n      <th>volume</th>\n      <th>market_cap</th>\n      <th>url_shares</th>\n      <th>unique_url_shares</th>\n      <th>reddit_posts</th>\n      <th>reddit_posts_score</th>\n      <th>reddit_comments</th>\n      <th>...</th>\n      <th>tweet_spam</th>\n      <th>tweet_followers</th>\n      <th>tweet_quotes</th>\n      <th>tweet_retweets</th>\n      <th>tweet_replies</th>\n      <th>tweet_favorites</th>\n      <th>news</th>\n      <th>volatility</th>\n      <th>youtube</th>\n      <th>name</th>\n    </tr>\n  </thead>\n  <tbody>\n    <tr>\n      <th>273</th>\n      <td>2019-11-11</td>\n      <td>8975.280060</td>\n      <td>8725.853005</td>\n      <td>1.451144e+10</td>\n      <td>1.569828e+11</td>\n      <td>25592.0</td>\n      <td>17354.0</td>\n      <td>351.0</td>\n      <td>6343.0</td>\n      <td>1153.0</td>\n      <td>...</td>\n      <td>6618.0</td>\n      <td>213214914.0</td>\n      <td>645.0</td>\n      <td>35283.0</td>\n      <td>2994.0</td>\n      <td>27314.0</td>\n      <td>76.0</td>\n      <td>0.015142</td>\n      <td>NaN</td>\n      <td>BTC</td>\n    </tr>\n    <tr>\n      <th>1121</th>\n      <td>2019-11-11</td>\n      <td>19.748543</td>\n      <td>20.076156</td>\n      <td>1.709973e+08</td>\n      <td>3.102983e+09</td>\n      <td>212.0</td>\n      <td>172.0</td>\n      <td>9.0</td>\n      <td>49.0</td>\n      <td>8.0</td>\n      <td>...</td>\n      <td>566.0</td>\n      <td>2122630.0</td>\n      <td>17.0</td>\n      <td>154.0</td>\n      <td>68.0</td>\n      <td>517.0</td>\n      <td>6.0</td>\n      <td>0.010876</td>\n      <td>NaN</td>\n      <td>BNB</td>\n    </tr>\n    <tr>\n      <th>1841</th>\n      <td>2019-11-11</td>\n      <td>183.285969</td>\n      <td>184.755322</td>\n      <td>5.219993e+09</td>\n      <td>2.019704e+10</td>\n      <td>6476.0</td>\n      <td>3727.0</td>\n      <td>153.0</td>\n      <td>1533.0</td>\n      <td>360.0</td>\n      <td>...</td>\n      <td>4839.0</td>\n      <td>20955905.0</td>\n      <td>110.0</td>\n      <td>9196.0</td>\n      <td>449.0</td>\n      <td>3989.0</td>\n      <td>51.0</td>\n      <td>0.009125</td>\n      <td>NaN</td>\n      <td>ETH</td>\n    </tr>\n  </tbody>\n</table>\n<p>3 rows × 21 columns</p>\n</div>"
     },
     "metadata": {},
     "execution_count": 66
    }
   ],
   "source": [
    "df_v = df.loc[df['time'] == '2019-11-11']\n",
    "df_v"
   ]
  },
  {
   "cell_type": "code",
   "execution_count": 17,
   "metadata": {},
   "outputs": [
    {
     "output_type": "execute_result",
     "data": {
      "text/plain": [
       "[           time         open        close        volume    market_cap  \\\n",
       " 273  2019-11-11  8975.280060  8725.853005  1.451144e+10  1.569828e+11   \n",
       " 274  2019-11-12  8763.711668  8811.793936  1.356092e+10  1.572561e+11   \n",
       " 275  2019-11-13  8834.860266  8763.449187  1.106837e+10  1.576834e+11   \n",
       " 276  2019-11-14  8679.898728  8626.960884  1.294539e+10  1.551788e+11   \n",
       " 277  2019-11-15  8540.251086  8470.571109  1.479076e+10  1.564096e+11   \n",
       " 278  2019-11-16  8543.079808  8499.235217  1.142822e+10  1.529479e+11   \n",
       " 279  2019-11-17  8534.221168  8511.428657  1.123674e+10  1.548187e+11   \n",
       " 280  2019-11-18  8401.674509  8184.923181  1.296027e+10  1.521003e+11   \n",
       " 281  2019-11-19  8137.202309  8127.213309  1.237716e+10  1.450531e+11   \n",
       " 282  2019-11-20  8104.257252  8091.474398  1.079203e+10  1.459745e+11   \n",
       " 283  2019-11-21  7869.228775  7638.214524  1.189220e+10  1.423854e+11   \n",
       " 284  2019-11-22  7462.879093  7303.694185  1.671371e+10  1.290971e+11   \n",
       " 285  2019-11-23  7347.408836  7335.268725  1.187610e+10  1.301873e+11   \n",
       " 286  2019-11-24  7121.876464  6926.742258  1.020013e+10  1.295183e+11   \n",
       " 287  2019-11-25  7006.581637  7128.248375  1.513605e+10  1.243783e+11   \n",
       " 288  2019-11-26  7162.663846  7087.465400  1.134177e+10  1.287088e+11   \n",
       " 289  2019-11-27  7196.802930  7520.632784  1.290570e+10  1.308770e+11   \n",
       " 290  2019-11-28  7476.733637  7430.215722  1.031670e+10  1.346719e+11   \n",
       " 291  2019-11-29  7496.361096  7750.605516  1.047457e+10  1.373754e+11   \n",
       " 292  2019-11-30  7689.547218  7557.248990  9.529289e+09  1.392201e+11   \n",
       " \n",
       "      url_shares  unique_url_shares  reddit_posts  reddit_posts_score  \\\n",
       " 273     25592.0            17354.0         351.0              6343.0   \n",
       " 274     22298.0            15895.0         501.0              6319.0   \n",
       " 275     38076.0            32845.0         474.0              5437.0   \n",
       " 276     43174.0            37273.0         417.0              7863.0   \n",
       " 277     38246.0            33613.0         429.0              6691.0   \n",
       " 278     35482.0            30170.0         458.0              5835.0   \n",
       " 279     21462.0            17959.0         255.0              2383.0   \n",
       " 280     11948.0             9013.0         503.0              5474.0   \n",
       " 281     25010.0            17953.0         437.0              9296.0   \n",
       " 282     28775.0            18199.0         486.0              6409.0   \n",
       " 283     35243.0            18201.0         545.0              8255.0   \n",
       " 284     32144.0            17877.0         489.0              8129.0   \n",
       " 285     20431.0            14208.0         421.0              4769.0   \n",
       " 286     23984.0            16787.0         450.0              6692.0   \n",
       " 287     25082.0            18089.0         420.0              6891.0   \n",
       " 288     22732.0            16024.0         489.0              8108.0   \n",
       " 289     21731.0            15342.0         447.0              9423.0   \n",
       " 290     20368.0            14679.0         432.0              7991.0   \n",
       " 291     19972.0            14394.0         468.0              5924.0   \n",
       " 292     17266.0            12897.0         343.0              5859.0   \n",
       " \n",
       "      reddit_comments  ...  tweet_spam  tweet_followers  tweet_quotes  \\\n",
       " 273           1153.0  ...      6618.0      213214914.0         645.0   \n",
       " 274           1280.0  ...      5330.0      184120942.0         548.0   \n",
       " 275           1281.0  ...      5002.0      174081417.0         445.0   \n",
       " 276           1156.0  ...      5666.0      192966522.0         593.0   \n",
       " 277           1197.0  ...      7513.0      264798426.0         609.0   \n",
       " 278           1117.0  ...      7027.0      217719588.0         529.0   \n",
       " 279            653.0  ...      4214.0      126248085.0         335.0   \n",
       " 280           1465.0  ...      4461.0      123921999.0         260.0   \n",
       " 281           1565.0  ...      9619.0      311288960.0         912.0   \n",
       " 282           1086.0  ...     11100.0      356036758.0        1070.0   \n",
       " 283           2009.0  ...     11393.0      400031306.0        1715.0   \n",
       " 284           1472.0  ...      9182.0      472848544.0        1438.0   \n",
       " 285           1068.0  ...      8378.0      242441505.0         810.0   \n",
       " 286           1752.0  ...      9469.0      336074527.0        1060.0   \n",
       " 287           1468.0  ...     10961.0      400607787.0        1282.0   \n",
       " 288           1390.0  ...     11412.0      383666104.0        1299.0   \n",
       " 289           1377.0  ...      9676.0      350944443.0        1327.0   \n",
       " 290           1160.0  ...      7778.0      268082261.0         824.0   \n",
       " 291           1516.0  ...      9435.0      261904618.0         850.0   \n",
       " 292           1205.0  ...      7630.0      182796737.0         451.0   \n",
       " \n",
       "      tweet_retweets  tweet_replies  tweet_favorites  news  volatility  \\\n",
       " 273         35283.0         2994.0          27314.0  76.0    0.015142   \n",
       " 274         11151.0         3000.0          23358.0  89.0    0.006375   \n",
       " 275        242365.0         3780.0          19646.0  99.0    0.003766   \n",
       " 276          7324.0         2841.0          22676.0  52.0    0.007300   \n",
       " 277          9097.0         4145.0          25519.0  49.0    0.008089   \n",
       " 278          8703.0         4003.0          22412.0  65.0    0.005321   \n",
       " 279          5900.0         1904.0          19306.0  21.0    0.003517   \n",
       " 280          5172.0         1780.0          10008.0  55.0    0.012572   \n",
       " 281         14555.0         4703.0          37583.0  38.0    0.014942   \n",
       " 282         14900.0         5529.0          45842.0  44.0    0.004166   \n",
       " 283         16830.0         9968.0          56313.0  45.0    0.023452   \n",
       " 284         15867.0         8264.0          52596.0  74.0    0.034682   \n",
       " 285         10520.0         4687.0          27124.0  58.0    0.015037   \n",
       " 286         13788.0         6818.0          44284.0  93.0    0.018290   \n",
       " 287         17189.0         8178.0          47776.0  45.0    0.029095   \n",
       " 288         15766.0         7997.0          40629.0  55.0    0.018383   \n",
       " 289         15273.0         6461.0          47337.0  27.0    0.022540   \n",
       " 290         12106.0         4751.0          34133.0  58.0    0.019876   \n",
       " 291         11955.0         4788.0          33118.0  86.0    0.014262   \n",
       " 292          7206.0         2888.0          19276.0  32.0    0.016479   \n",
       " \n",
       "      youtube  name  \n",
       " 273      NaN   BTC  \n",
       " 274      NaN   BTC  \n",
       " 275      NaN   BTC  \n",
       " 276      NaN   BTC  \n",
       " 277      NaN   BTC  \n",
       " 278      NaN   BTC  \n",
       " 279      NaN   BTC  \n",
       " 280      NaN   BTC  \n",
       " 281      NaN   BTC  \n",
       " 282      NaN   BTC  \n",
       " 283      NaN   BTC  \n",
       " 284      NaN   BTC  \n",
       " 285      NaN   BTC  \n",
       " 286      NaN   BTC  \n",
       " 287      NaN   BTC  \n",
       " 288      NaN   BTC  \n",
       " 289      NaN   BTC  \n",
       " 290      NaN   BTC  \n",
       " 291      NaN   BTC  \n",
       " 292      NaN   BTC  \n",
       " \n",
       " [20 rows x 21 columns]]"
      ]
     },
     "metadata": {},
     "execution_count": 17
    }
   ],
   "source": [
    "import datetime as dt\n",
    "start_date = '2019-11-11'\n",
    "\n",
    "end_date = '2019-11-30'\n",
    "\n",
    "[df.loc[df['time'].between(start_date, end_date)].loc[df['name']=='BTC']]"
   ]
  },
  {
   "cell_type": "code",
   "execution_count": 22,
   "metadata": {},
   "outputs": [
    {
     "output_type": "execute_result",
     "data": {
      "text/plain": [
       "Index(['Unnamed: 0', 'time', 'open', 'close', 'volume', 'market_cap',\n",
       "       'url_shares', 'unique_url_shares', 'reddit_posts', 'reddit_posts_score',\n",
       "       'reddit_comments', 'tweets', 'tweet_spam', 'tweet_followers',\n",
       "       'tweet_quotes', 'tweet_retweets', 'tweet_replies', 'tweet_favorites',\n",
       "       'news', 'volatility', 'youtube', 'name'],\n",
       "      dtype='object')"
      ]
     },
     "metadata": {},
     "execution_count": 22
    }
   ],
   "source": [
    "df.columns"
   ]
  },
  {
   "cell_type": "code",
   "execution_count": 2,
   "metadata": {},
   "outputs": [
    {
     "output_type": "error",
     "ename": "ModuleNotFoundError",
     "evalue": "No module named 'pandas_datareader'",
     "traceback": [
      "\u001b[0;31m---------------------------------------------------------------------------\u001b[0m",
      "\u001b[0;31mModuleNotFoundError\u001b[0m                       Traceback (most recent call last)",
      "\u001b[0;32m<ipython-input-2-8d8c49d406c9>\u001b[0m in \u001b[0;36m<module>\u001b[0;34m\u001b[0m\n\u001b[0;32m----> 1\u001b[0;31m \u001b[0;32mimport\u001b[0m \u001b[0mpandas_datareader\u001b[0m\u001b[0;34m.\u001b[0m\u001b[0mdata\u001b[0m \u001b[0;32mas\u001b[0m \u001b[0mweb\u001b[0m\u001b[0;34m\u001b[0m\u001b[0;34m\u001b[0m\u001b[0m\n\u001b[0m\u001b[1;32m      2\u001b[0m \u001b[0;34m\u001b[0m\u001b[0m\n\u001b[1;32m      3\u001b[0m \u001b[0msymbols\u001b[0m \u001b[0;34m=\u001b[0m \u001b[0mweb\u001b[0m\u001b[0;34m.\u001b[0m\u001b[0mget_iex_symbols\u001b[0m\u001b[0;34m(\u001b[0m\u001b[0;34m)\u001b[0m\u001b[0;34m\u001b[0m\u001b[0;34m\u001b[0m\u001b[0m\n\u001b[1;32m      4\u001b[0m \u001b[0msymbols_list\u001b[0m \u001b[0;34m=\u001b[0m \u001b[0mpd\u001b[0m\u001b[0;34m.\u001b[0m\u001b[0mDataFrame\u001b[0m\u001b[0;34m(\u001b[0m\u001b[0;34m{\u001b[0m\u001b[0;34m'symbol'\u001b[0m\u001b[0;34m:\u001b[0m \u001b[0msymbols\u001b[0m\u001b[0;34m[\u001b[0m\u001b[0;34m'symbol'\u001b[0m\u001b[0;34m]\u001b[0m\u001b[0;34m,\u001b[0m \u001b[0;34m'name'\u001b[0m\u001b[0;34m:\u001b[0m \u001b[0msymbols\u001b[0m\u001b[0;34m[\u001b[0m\u001b[0;34m'name'\u001b[0m\u001b[0;34m]\u001b[0m\u001b[0;34m}\u001b[0m\u001b[0;34m)\u001b[0m\u001b[0;34m\u001b[0m\u001b[0;34m\u001b[0m\u001b[0m\n",
      "\u001b[0;31mModuleNotFoundError\u001b[0m: No module named 'pandas_datareader'"
     ]
    }
   ],
   "source": []
  },
  {
   "cell_type": "code",
   "execution_count": 1,
   "metadata": {},
   "outputs": [],
   "source": [
    "import pandas as pd\n",
    "import numpy as np\n",
    "\n",
    "import matplotlib.pyplot as plt\n",
    "%matplotlib inline\n",
    "\n",
    "from matplotlib.pylab import rcParams\n",
    "rcParams['figure.figsize']=20,10\n",
    "from keras.models import Sequential\n",
    "from keras.layers import LSTM,Dropout,Dense\n",
    "from sklearn.preprocessing import MinMaxScaler"
   ]
  },
  {
   "cell_type": "code",
   "execution_count": 123,
   "metadata": {},
   "outputs": [
    {
     "output_type": "execute_result",
     "data": {
      "text/plain": [
       "array([[8725.853005],\n",
       "       [8811.793936],\n",
       "       [8763.449187],\n",
       "       [8626.960884],\n",
       "       [8470.571109],\n",
       "       [8499.235217],\n",
       "       [8511.428657],\n",
       "       [8184.923181],\n",
       "       [8127.213309],\n",
       "       [8091.474398],\n",
       "       [7638.214524],\n",
       "       [7303.694185],\n",
       "       [7335.268725],\n",
       "       [6926.742258],\n",
       "       [7128.248375],\n",
       "       [7087.4654  ],\n",
       "       [7520.632784],\n",
       "       [7430.215722],\n",
       "       [7750.605516],\n",
       "       [7557.24899 ]])"
      ]
     },
     "metadata": {},
     "execution_count": 123
    }
   ],
   "source": [
    "coin_df=pd.read_csv('test_data') \n",
    "coin_df=coin_df[['time', 'close','name']].copy()\n",
    "\n",
    "#Droping dates with no closing price inforamtion\n",
    "\n",
    "start_date = '2019-11-11'\n",
    "end_date = '2019-11-30'\n",
    "new_data_1 =coin_df.loc[coin_df['time'].between(start_date, end_date)]\n",
    "new_data_2 = new_data_1.loc[new_data['name'] == 'BTC']\n",
    "new_data_2.index = new_data_2.time\n",
    "new_data_2.drop('time', axis=1, inplace=True)\n",
    "new_data_2.drop('name', axis=1, inplace= True)\n",
    "final_dataset = new_data_2.values\n",
    "final_dataset\n"
   ]
  },
  {
   "cell_type": "code",
   "execution_count": 131,
   "metadata": {},
   "outputs": [],
   "source": [
    "L = len(final_dataset)"
   ]
  },
  {
   "cell_type": "code",
   "execution_count": 145,
   "metadata": {},
   "outputs": [],
   "source": [
    "train_data=final_dataset[0:int(len(final_dataset)*0.80)]\n",
    "valid_data=final_dataset[int(len(final_dataset)*0.80):]\n",
    "\n",
    "scaler=MinMaxScaler(feature_range=(0,1))\n",
    "scaled_data=scaler.fit_transform(final_dataset)\n",
    "\n",
    "\n",
    "x_train_data,y_train_data=[],[]\n",
    "for i in range(10,len(train_data)):\n",
    "    x_train_data.append(scaled_data[i-10:i,0])\n",
    "    y_train_data.append(scaled_data[i,0])\n",
    "    \n",
    "x_train_data,y_train_data=np.array(x_train_data),np.array(y_train_data)\n",
    "x_train_data=np.reshape(x_train_data,(x_train_data.shape[0],x_train_data.shape[1],1))"
   ]
  },
  {
   "cell_type": "code",
   "execution_count": 149,
   "metadata": {},
   "outputs": [
    {
     "output_type": "stream",
     "name": "stdout",
     "text": [
      "6/6 - 3s - loss: 0.0198\n"
     ]
    },
    {
     "output_type": "execute_result",
     "data": {
      "text/plain": [
       "<tensorflow.python.keras.callbacks.History at 0x7fc13e0240a0>"
      ]
     },
     "metadata": {},
     "execution_count": 149
    }
   ],
   "source": [
    "lstm_model=Sequential()\n",
    "lstm_model.add(LSTM(units=50,return_sequences=True,input_shape=(x_train_data.shape[1],1)))\n",
    "lstm_model.add(LSTM(units=50))\n",
    "lstm_model.add(Dense(1))\n",
    "\n",
    "inputs_data=new_data_2[len(new_data_2)-len(valid_data)-60:].values\n",
    "inputs_data=inputs_data.reshape(-1,1)\n",
    "inputs_data=scaler.transform(inputs_data)\n",
    "\n",
    "lstm_model.compile(loss='mean_squared_error',optimizer='adam')\n",
    "lstm_model.fit(x_train_data,y_train_data,epochs=1,batch_size=1,verbose=2)"
   ]
  },
  {
   "cell_type": "code",
   "execution_count": 155,
   "metadata": {},
   "outputs": [
    {
     "output_type": "stream",
     "name": "stderr",
     "text": [
      "WARNING:absl:Found untraced functions such as lstm_cell_9_layer_call_and_return_conditional_losses, lstm_cell_9_layer_call_fn, lstm_cell_10_layer_call_and_return_conditional_losses, lstm_cell_10_layer_call_fn, lstm_cell_9_layer_call_fn while saving (showing 5 of 10). These functions will not be directly callable after loading.\n",
      "WARNING:absl:Found untraced functions such as lstm_cell_9_layer_call_and_return_conditional_losses, lstm_cell_9_layer_call_fn, lstm_cell_10_layer_call_and_return_conditional_losses, lstm_cell_10_layer_call_fn, lstm_cell_9_layer_call_fn while saving (showing 5 of 10). These functions will not be directly callable after loading.\n",
      "INFO:tensorflow:Assets written to: saved_model.h6/assets\n",
      "INFO:tensorflow:Assets written to: saved_model.h6/assets\n"
     ]
    }
   ],
   "source": [
    "lstm_model.save(\"saved_model.h5\")"
   ]
  },
  {
   "cell_type": "code",
   "execution_count": 156,
   "metadata": {},
   "outputs": [
    {
     "output_type": "error",
     "ename": "IndexError",
     "evalue": "tuple index out of range",
     "traceback": [
      "\u001b[0;31m---------------------------------------------------------------------------\u001b[0m",
      "\u001b[0;31mIndexError\u001b[0m                                Traceback (most recent call last)",
      "\u001b[0;32m<ipython-input-156-4356de583cbc>\u001b[0m in \u001b[0;36m<module>\u001b[0;34m\u001b[0m\n\u001b[1;32m      4\u001b[0m \u001b[0mX_test\u001b[0m\u001b[0;34m=\u001b[0m\u001b[0mnp\u001b[0m\u001b[0;34m.\u001b[0m\u001b[0marray\u001b[0m\u001b[0;34m(\u001b[0m\u001b[0mX_test\u001b[0m\u001b[0;34m)\u001b[0m\u001b[0;34m\u001b[0m\u001b[0;34m\u001b[0m\u001b[0m\n\u001b[1;32m      5\u001b[0m \u001b[0;34m\u001b[0m\u001b[0m\n\u001b[0;32m----> 6\u001b[0;31m \u001b[0mX_test\u001b[0m\u001b[0;34m=\u001b[0m\u001b[0mnp\u001b[0m\u001b[0;34m.\u001b[0m\u001b[0mreshape\u001b[0m\u001b[0;34m(\u001b[0m\u001b[0mX_test\u001b[0m\u001b[0;34m,\u001b[0m\u001b[0;34m(\u001b[0m\u001b[0mX_test\u001b[0m\u001b[0;34m.\u001b[0m\u001b[0mshape\u001b[0m\u001b[0;34m[\u001b[0m\u001b[0;36m0\u001b[0m\u001b[0;34m]\u001b[0m\u001b[0;34m,\u001b[0m\u001b[0mX_test\u001b[0m\u001b[0;34m.\u001b[0m\u001b[0mshape\u001b[0m\u001b[0;34m[\u001b[0m\u001b[0;36m1\u001b[0m\u001b[0;34m]\u001b[0m\u001b[0;34m,\u001b[0m\u001b[0;36m1\u001b[0m\u001b[0;34m)\u001b[0m\u001b[0;34m)\u001b[0m\u001b[0;34m\u001b[0m\u001b[0;34m\u001b[0m\u001b[0m\n\u001b[0m\u001b[1;32m      7\u001b[0m \u001b[0mpredicted_closing_price\u001b[0m\u001b[0;34m=\u001b[0m\u001b[0mlstm_model\u001b[0m\u001b[0;34m.\u001b[0m\u001b[0mpredict\u001b[0m\u001b[0;34m(\u001b[0m\u001b[0mX_test\u001b[0m\u001b[0;34m)\u001b[0m\u001b[0;34m\u001b[0m\u001b[0;34m\u001b[0m\u001b[0m\n\u001b[1;32m      8\u001b[0m \u001b[0mpredicted_closing_price\u001b[0m\u001b[0;34m=\u001b[0m\u001b[0mscaler\u001b[0m\u001b[0;34m.\u001b[0m\u001b[0minverse_transform\u001b[0m\u001b[0;34m(\u001b[0m\u001b[0mpredicted_closing_price\u001b[0m\u001b[0;34m)\u001b[0m\u001b[0;34m\u001b[0m\u001b[0;34m\u001b[0m\u001b[0m\n",
      "\u001b[0;31mIndexError\u001b[0m: tuple index out of range"
     ]
    }
   ],
   "source": [
    "X_test=[]\n",
    "for i in range(60,inputs_data.shape[0]):\n",
    "    X_test.append(inputs_data[i-10:i,0])\n",
    "X_test=np.array(X_test)\n",
    "\n",
    "X_test=np.reshape(X_test,(X_test.shape[0],X_test.shape[1],1))\n",
    "predicted_closing_price=lstm_model.predict(X_test)\n",
    "predicted_closing_price=scaler.inverse_transform(predicted_closing_price)\n"
   ]
  },
  {
   "cell_type": "code",
   "execution_count": 153,
   "metadata": {},
   "outputs": [
    {
     "output_type": "error",
     "ename": "ValueError",
     "evalue": "Length of values (10) does not match length of index (4)",
     "traceback": [
      "\u001b[0;31m---------------------------------------------------------------------------\u001b[0m",
      "\u001b[0;31mValueError\u001b[0m                                Traceback (most recent call last)",
      "\u001b[0;32m<ipython-input-153-b93b676b30f9>\u001b[0m in \u001b[0;36m<module>\u001b[0;34m\u001b[0m\n\u001b[1;32m      1\u001b[0m \u001b[0mtrain_data\u001b[0m\u001b[0;34m=\u001b[0m\u001b[0mnew_data_2\u001b[0m\u001b[0;34m[\u001b[0m\u001b[0;36m0\u001b[0m\u001b[0;34m:\u001b[0m\u001b[0;36m16\u001b[0m\u001b[0;34m]\u001b[0m\u001b[0;34m\u001b[0m\u001b[0;34m\u001b[0m\u001b[0m\n\u001b[1;32m      2\u001b[0m \u001b[0mvalid_data\u001b[0m\u001b[0;34m=\u001b[0m\u001b[0mnew_data_2\u001b[0m\u001b[0;34m[\u001b[0m\u001b[0;36m16\u001b[0m\u001b[0;34m:\u001b[0m\u001b[0;34m]\u001b[0m\u001b[0;34m\u001b[0m\u001b[0;34m\u001b[0m\u001b[0m\n\u001b[0;32m----> 3\u001b[0;31m \u001b[0mvalid_data\u001b[0m\u001b[0;34m[\u001b[0m\u001b[0;34m'Predictions'\u001b[0m\u001b[0;34m]\u001b[0m\u001b[0;34m=\u001b[0m\u001b[0mpredicted_closing_price\u001b[0m\u001b[0;34m\u001b[0m\u001b[0;34m\u001b[0m\u001b[0m\n\u001b[0m\u001b[1;32m      4\u001b[0m \u001b[0mplt\u001b[0m\u001b[0;34m.\u001b[0m\u001b[0mplot\u001b[0m\u001b[0;34m(\u001b[0m\u001b[0mtrain_data\u001b[0m\u001b[0;34m[\u001b[0m\u001b[0;34m\"close\"\u001b[0m\u001b[0;34m]\u001b[0m\u001b[0;34m,\u001b[0m \u001b[0mlabel\u001b[0m \u001b[0;34m=\u001b[0m \u001b[0;34m'actual'\u001b[0m\u001b[0;34m)\u001b[0m\u001b[0;34m\u001b[0m\u001b[0;34m\u001b[0m\u001b[0m\n\u001b[1;32m      5\u001b[0m \u001b[0mplt\u001b[0m\u001b[0;34m.\u001b[0m\u001b[0mplot\u001b[0m\u001b[0;34m(\u001b[0m\u001b[0mvalid_data\u001b[0m\u001b[0;34m[\u001b[0m\u001b[0;34m[\u001b[0m\u001b[0;34m'close'\u001b[0m\u001b[0;34m,\u001b[0m\u001b[0;34m\"Predictions\"\u001b[0m\u001b[0;34m]\u001b[0m\u001b[0;34m]\u001b[0m\u001b[0;34m)\u001b[0m\u001b[0;34m\u001b[0m\u001b[0;34m\u001b[0m\u001b[0m\n",
      "\u001b[0;32m~/opt/anaconda3/envs/mlenb/lib/python3.8/site-packages/pandas/core/frame.py\u001b[0m in \u001b[0;36m__setitem__\u001b[0;34m(self, key, value)\u001b[0m\n\u001b[1;32m   3038\u001b[0m         \u001b[0;32melse\u001b[0m\u001b[0;34m:\u001b[0m\u001b[0;34m\u001b[0m\u001b[0;34m\u001b[0m\u001b[0m\n\u001b[1;32m   3039\u001b[0m             \u001b[0;31m# set column\u001b[0m\u001b[0;34m\u001b[0m\u001b[0;34m\u001b[0m\u001b[0;34m\u001b[0m\u001b[0m\n\u001b[0;32m-> 3040\u001b[0;31m             \u001b[0mself\u001b[0m\u001b[0;34m.\u001b[0m\u001b[0m_set_item\u001b[0m\u001b[0;34m(\u001b[0m\u001b[0mkey\u001b[0m\u001b[0;34m,\u001b[0m \u001b[0mvalue\u001b[0m\u001b[0;34m)\u001b[0m\u001b[0;34m\u001b[0m\u001b[0;34m\u001b[0m\u001b[0m\n\u001b[0m\u001b[1;32m   3041\u001b[0m \u001b[0;34m\u001b[0m\u001b[0m\n\u001b[1;32m   3042\u001b[0m     \u001b[0;32mdef\u001b[0m \u001b[0m_setitem_slice\u001b[0m\u001b[0;34m(\u001b[0m\u001b[0mself\u001b[0m\u001b[0;34m,\u001b[0m \u001b[0mkey\u001b[0m\u001b[0;34m:\u001b[0m \u001b[0mslice\u001b[0m\u001b[0;34m,\u001b[0m \u001b[0mvalue\u001b[0m\u001b[0;34m)\u001b[0m\u001b[0;34m:\u001b[0m\u001b[0;34m\u001b[0m\u001b[0;34m\u001b[0m\u001b[0m\n",
      "\u001b[0;32m~/opt/anaconda3/envs/mlenb/lib/python3.8/site-packages/pandas/core/frame.py\u001b[0m in \u001b[0;36m_set_item\u001b[0;34m(self, key, value)\u001b[0m\n\u001b[1;32m   3114\u001b[0m         \"\"\"\n\u001b[1;32m   3115\u001b[0m         \u001b[0mself\u001b[0m\u001b[0;34m.\u001b[0m\u001b[0m_ensure_valid_index\u001b[0m\u001b[0;34m(\u001b[0m\u001b[0mvalue\u001b[0m\u001b[0;34m)\u001b[0m\u001b[0;34m\u001b[0m\u001b[0;34m\u001b[0m\u001b[0m\n\u001b[0;32m-> 3116\u001b[0;31m         \u001b[0mvalue\u001b[0m \u001b[0;34m=\u001b[0m \u001b[0mself\u001b[0m\u001b[0;34m.\u001b[0m\u001b[0m_sanitize_column\u001b[0m\u001b[0;34m(\u001b[0m\u001b[0mkey\u001b[0m\u001b[0;34m,\u001b[0m \u001b[0mvalue\u001b[0m\u001b[0;34m)\u001b[0m\u001b[0;34m\u001b[0m\u001b[0;34m\u001b[0m\u001b[0m\n\u001b[0m\u001b[1;32m   3117\u001b[0m         \u001b[0mNDFrame\u001b[0m\u001b[0;34m.\u001b[0m\u001b[0m_set_item\u001b[0m\u001b[0;34m(\u001b[0m\u001b[0mself\u001b[0m\u001b[0;34m,\u001b[0m \u001b[0mkey\u001b[0m\u001b[0;34m,\u001b[0m \u001b[0mvalue\u001b[0m\u001b[0;34m)\u001b[0m\u001b[0;34m\u001b[0m\u001b[0;34m\u001b[0m\u001b[0m\n\u001b[1;32m   3118\u001b[0m \u001b[0;34m\u001b[0m\u001b[0m\n",
      "\u001b[0;32m~/opt/anaconda3/envs/mlenb/lib/python3.8/site-packages/pandas/core/frame.py\u001b[0m in \u001b[0;36m_sanitize_column\u001b[0;34m(self, key, value, broadcast)\u001b[0m\n\u001b[1;32m   3762\u001b[0m \u001b[0;34m\u001b[0m\u001b[0m\n\u001b[1;32m   3763\u001b[0m             \u001b[0;31m# turn me into an ndarray\u001b[0m\u001b[0;34m\u001b[0m\u001b[0;34m\u001b[0m\u001b[0;34m\u001b[0m\u001b[0m\n\u001b[0;32m-> 3764\u001b[0;31m             \u001b[0mvalue\u001b[0m \u001b[0;34m=\u001b[0m \u001b[0msanitize_index\u001b[0m\u001b[0;34m(\u001b[0m\u001b[0mvalue\u001b[0m\u001b[0;34m,\u001b[0m \u001b[0mself\u001b[0m\u001b[0;34m.\u001b[0m\u001b[0mindex\u001b[0m\u001b[0;34m)\u001b[0m\u001b[0;34m\u001b[0m\u001b[0;34m\u001b[0m\u001b[0m\n\u001b[0m\u001b[1;32m   3765\u001b[0m             \u001b[0;32mif\u001b[0m \u001b[0;32mnot\u001b[0m \u001b[0misinstance\u001b[0m\u001b[0;34m(\u001b[0m\u001b[0mvalue\u001b[0m\u001b[0;34m,\u001b[0m \u001b[0;34m(\u001b[0m\u001b[0mnp\u001b[0m\u001b[0;34m.\u001b[0m\u001b[0mndarray\u001b[0m\u001b[0;34m,\u001b[0m \u001b[0mIndex\u001b[0m\u001b[0;34m)\u001b[0m\u001b[0;34m)\u001b[0m\u001b[0;34m:\u001b[0m\u001b[0;34m\u001b[0m\u001b[0;34m\u001b[0m\u001b[0m\n\u001b[1;32m   3766\u001b[0m                 \u001b[0;32mif\u001b[0m \u001b[0misinstance\u001b[0m\u001b[0;34m(\u001b[0m\u001b[0mvalue\u001b[0m\u001b[0;34m,\u001b[0m \u001b[0mlist\u001b[0m\u001b[0;34m)\u001b[0m \u001b[0;32mand\u001b[0m \u001b[0mlen\u001b[0m\u001b[0;34m(\u001b[0m\u001b[0mvalue\u001b[0m\u001b[0;34m)\u001b[0m \u001b[0;34m>\u001b[0m \u001b[0;36m0\u001b[0m\u001b[0;34m:\u001b[0m\u001b[0;34m\u001b[0m\u001b[0;34m\u001b[0m\u001b[0m\n",
      "\u001b[0;32m~/opt/anaconda3/envs/mlenb/lib/python3.8/site-packages/pandas/core/internals/construction.py\u001b[0m in \u001b[0;36msanitize_index\u001b[0;34m(data, index)\u001b[0m\n\u001b[1;32m    745\u001b[0m     \"\"\"\n\u001b[1;32m    746\u001b[0m     \u001b[0;32mif\u001b[0m \u001b[0mlen\u001b[0m\u001b[0;34m(\u001b[0m\u001b[0mdata\u001b[0m\u001b[0;34m)\u001b[0m \u001b[0;34m!=\u001b[0m \u001b[0mlen\u001b[0m\u001b[0;34m(\u001b[0m\u001b[0mindex\u001b[0m\u001b[0;34m)\u001b[0m\u001b[0;34m:\u001b[0m\u001b[0;34m\u001b[0m\u001b[0;34m\u001b[0m\u001b[0m\n\u001b[0;32m--> 747\u001b[0;31m         raise ValueError(\n\u001b[0m\u001b[1;32m    748\u001b[0m             \u001b[0;34m\"Length of values \"\u001b[0m\u001b[0;34m\u001b[0m\u001b[0;34m\u001b[0m\u001b[0m\n\u001b[1;32m    749\u001b[0m             \u001b[0;34mf\"({len(data)}) \"\u001b[0m\u001b[0;34m\u001b[0m\u001b[0;34m\u001b[0m\u001b[0m\n",
      "\u001b[0;31mValueError\u001b[0m: Length of values (10) does not match length of index (4)"
     ]
    }
   ],
   "source": [
    "train_data=new_data_2[0:16]\n",
    "valid_data=new_data_2[16:]\n",
    "valid_data['Predictions']=predicted_closing_price\n",
    "plt.plot(train_data[\"close\"], label = 'actual')\n",
    "plt.plot(valid_data[['close',\"Predictions\"]])"
   ]
  },
  {
   "cell_type": "code",
   "execution_count": null,
   "metadata": {},
   "outputs": [],
   "source": []
  }
 ]
}