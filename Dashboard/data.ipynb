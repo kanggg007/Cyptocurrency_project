{
 "metadata": {
  "language_info": {
   "codemirror_mode": {
    "name": "ipython",
    "version": 3
   },
   "file_extension": ".py",
   "mimetype": "text/x-python",
   "name": "python",
   "nbconvert_exporter": "python",
   "pygments_lexer": "ipython3",
   "version": "3.8.5-final"
  },
  "orig_nbformat": 2,
  "kernelspec": {
   "name": "mlenb",
   "display_name": "mlenb",
   "language": "python"
  }
 },
 "nbformat": 4,
 "nbformat_minor": 2,
 "cells": [
  {
   "cell_type": "code",
   "execution_count": 7,
   "metadata": {},
   "outputs": [],
   "source": [
    "import pandas as pd \n",
    "import numpy as np \n"
   ]
  },
  {
   "cell_type": "code",
   "execution_count": 253,
   "metadata": {},
   "outputs": [],
   "source": [
    "df_btc = pd.read_csv('resources copy/BTC.csv')\n",
    "df_aave = pd.read_csv('resources copy/AAVE.csv')\n",
    "df_bnb = pd.read_csv('resources copy/BNB.csv')\n",
    "d_eth = pd.read_csv('resources copy/ETH.csv')\n",
    "df_all = pd.read_csv('coin_all.csv')"
   ]
  },
  {
   "cell_type": "code",
   "execution_count": 3,
   "metadata": {},
   "outputs": [],
   "source": [
    "combined_data = pd.concat([df_btc, df_aave, df_bnb, d_eth], axis=0)"
   ]
  },
  {
   "cell_type": "code",
   "execution_count": 4,
   "metadata": {},
   "outputs": [],
   "source": [
    "combined_data = combined_data.drop('Unnamed: 0', axis= True)"
   ]
  },
  {
   "cell_type": "code",
   "execution_count": 21,
   "metadata": {},
   "outputs": [],
   "source": [
    "data_top_20 = df_all.loc[df_all['time'] ==  '2021-01-31']\n",
    "df_top_20 = data_top_20.sort_values('market_cap', ascending=False)[:10]"
   ]
  },
  {
   "cell_type": "code",
   "execution_count": 23,
   "metadata": {},
   "outputs": [
    {
     "output_type": "execute_result",
     "data": {
      "text/plain": [
       "Index(['index', 'asset_id', 'time', 'open', 'close', 'volume', 'market_cap',\n",
       "       'url_shares', 'unique_url_shares', 'reddit_posts', 'reddit_posts_score',\n",
       "       'reddit_comments', 'tweets', 'tweet_spam', 'tweet_followers',\n",
       "       'tweet_quotes', 'tweet_retweets', 'tweet_replies', 'tweet_favorites',\n",
       "       'news', 'volatility', 'youtube', 'symbol'],\n",
       "      dtype='object')"
      ]
     },
     "metadata": {},
     "execution_count": 23
    }
   ],
   "source": [
    "df_top_20.columns"
   ]
  },
  {
   "cell_type": "code",
   "execution_count": 39,
   "metadata": {},
   "outputs": [
    {
     "output_type": "execute_result",
     "data": {
      "text/plain": [
       "      url_shares  reddit_posts   tweets  news  youtube\n",
       "3320     25592.0         351.0  40209.0  76.0      NaN\n",
       "3321     22298.0         501.0  36875.0  89.0      NaN\n",
       "3322     38076.0         474.0  37612.0  99.0      NaN\n",
       "3323     43174.0         417.0  38283.0  52.0      NaN\n",
       "3324     38246.0         429.0  55804.0  49.0      NaN"
      ],
      "text/html": "<div>\n<style scoped>\n    .dataframe tbody tr th:only-of-type {\n        vertical-align: middle;\n    }\n\n    .dataframe tbody tr th {\n        vertical-align: top;\n    }\n\n    .dataframe thead th {\n        text-align: right;\n    }\n</style>\n<table border=\"1\" class=\"dataframe\">\n  <thead>\n    <tr style=\"text-align: right;\">\n      <th></th>\n      <th>url_shares</th>\n      <th>reddit_posts</th>\n      <th>tweets</th>\n      <th>news</th>\n      <th>youtube</th>\n    </tr>\n  </thead>\n  <tbody>\n    <tr>\n      <th>3320</th>\n      <td>25592.0</td>\n      <td>351.0</td>\n      <td>40209.0</td>\n      <td>76.0</td>\n      <td>NaN</td>\n    </tr>\n    <tr>\n      <th>3321</th>\n      <td>22298.0</td>\n      <td>501.0</td>\n      <td>36875.0</td>\n      <td>89.0</td>\n      <td>NaN</td>\n    </tr>\n    <tr>\n      <th>3322</th>\n      <td>38076.0</td>\n      <td>474.0</td>\n      <td>37612.0</td>\n      <td>99.0</td>\n      <td>NaN</td>\n    </tr>\n    <tr>\n      <th>3323</th>\n      <td>43174.0</td>\n      <td>417.0</td>\n      <td>38283.0</td>\n      <td>52.0</td>\n      <td>NaN</td>\n    </tr>\n    <tr>\n      <th>3324</th>\n      <td>38246.0</td>\n      <td>429.0</td>\n      <td>55804.0</td>\n      <td>49.0</td>\n      <td>NaN</td>\n    </tr>\n  </tbody>\n</table>\n</div>"
     },
     "metadata": {},
     "execution_count": 39
    }
   ],
   "source": [
    "start_date = '2019-11-11'\n",
    "\n",
    "end_date = '2019-11-30'\n",
    "\n",
    "a = df_all.loc[df_all['time'].between(start_date, end_date)].loc[df_all['symbol']=='BTC']\n",
    "a = a[['url_shares','reddit_posts','tweets','news','youtube']].apply(pd.to_numeric)\n",
    "a.head()\n"
   ]
  },
  {
   "cell_type": "code",
   "execution_count": 49,
   "metadata": {},
   "outputs": [],
   "source": [
    "a = a[['url_shares','reddit_posts','tweets','news','youtube']].apply(pd.to_numeric)\n",
    "    \n",
    "new_max = 100\n",
    "new_min = 0\n",
    "new_range = new_max - new_min\n",
    "\n",
    "factors = ['url_shares','reddit_posts','tweets','news','youtube']\n",
    "for factor in factors:\n",
    "    max_val = a[factor].max()\n",
    "    min_val = a[factor].min()\n",
    "    val_range = max_val - min_val\n",
    "    a[factor + '_Adj'] = a[factor].apply(lambda x: (((x - min_val) * new_range) / val_range) + new_min)\n",
    "\n",
    "\n",
    "df3 = a[['url_shares_Adj','reddit_posts_Adj','tweets_Adj','news_Adj','youtube_Adj']]\n",
    "df3.rename(columns={\n",
    "        'url_shares_Adj': 'url_shares',\n",
    "        'reddit_posts_Adj': 'reddit_posts',\n",
    "        'tweets_Adj': 'tweets',\n",
    "        'news_Adj': 'news',\n",
    "        'youtube_Adj': 'youtube'\n",
    "    }, inplace=True)"
   ]
  },
  {
   "cell_type": "code",
   "execution_count": 91,
   "metadata": {},
   "outputs": [
    {
     "output_type": "stream",
     "name": "stdout",
     "text": [
      "10\n"
     ]
    }
   ],
   "source": [
    "from math import pi\n",
    "import plotly.express as px\n",
    "categories=list(df3)[1:]\n",
    "N = len(categories)\n",
    "\n",
    "# We are going to plot the first line of the data frame.\n",
    "# But we need to repeat the first value to close the circular graph:\n",
    "\n",
    "\n",
    "values=df3.iloc[0].values.faltten().tolist()\n",
    "values += values[:]\n",
    "\n"
   ]
  },
  {
   "cell_type": "code",
   "execution_count": 134,
   "metadata": {},
   "outputs": [
    {
     "output_type": "execute_result",
     "data": {
      "text/plain": [
       "[962.038045218728,\n",
       " 1314.1799384686062,\n",
       " 964.1840805767523,\n",
       " 983.1454557099852,\n",
       " 0.0]"
      ]
     },
     "metadata": {},
     "execution_count": 134
    }
   ],
   "source": [
    "sum_column = df3.sum(axis=0)\n",
    "list(sum_column)"
   ]
  },
  {
   "cell_type": "code",
   "execution_count": 135,
   "metadata": {},
   "outputs": [
    {
     "output_type": "display_data",
     "data": {
      "application/vnd.plotly.v1+json": {
       "config": {
        "plotlyServerURL": "https://plot.ly"
       },
       "data": [
        {
         "fill": "toself",
         "hovertemplate": "r=%{r}<br>theta=%{theta}<extra></extra>",
         "legendgroup": "",
         "line": {
          "color": "#636efa",
          "dash": "solid"
         },
         "mode": "lines",
         "name": "",
         "r": [
          962.038045218728,
          1314.1799384686062,
          964.1840805767523,
          983.1454557099852,
          0,
          962.038045218728
         ],
         "showlegend": false,
         "subplot": "polar",
         "theta": [
          "url_shares",
          "reddit_posts",
          "tweets",
          "news",
          "youtube",
          "url_shares"
         ],
         "type": "scatterpolar"
        }
       ],
       "layout": {
        "legend": {
         "tracegroupgap": 0
        },
        "margin": {
         "t": 60
        },
        "polar": {
         "angularaxis": {
          "direction": "clockwise",
          "rotation": 90
         },
         "domain": {
          "x": [
           0,
           1
          ],
          "y": [
           0,
           1
          ]
         }
        },
        "template": {
         "data": {
          "bar": [
           {
            "error_x": {
             "color": "#2a3f5f"
            },
            "error_y": {
             "color": "#2a3f5f"
            },
            "marker": {
             "line": {
              "color": "#E5ECF6",
              "width": 0.5
             }
            },
            "type": "bar"
           }
          ],
          "barpolar": [
           {
            "marker": {
             "line": {
              "color": "#E5ECF6",
              "width": 0.5
             }
            },
            "type": "barpolar"
           }
          ],
          "carpet": [
           {
            "aaxis": {
             "endlinecolor": "#2a3f5f",
             "gridcolor": "white",
             "linecolor": "white",
             "minorgridcolor": "white",
             "startlinecolor": "#2a3f5f"
            },
            "baxis": {
             "endlinecolor": "#2a3f5f",
             "gridcolor": "white",
             "linecolor": "white",
             "minorgridcolor": "white",
             "startlinecolor": "#2a3f5f"
            },
            "type": "carpet"
           }
          ],
          "choropleth": [
           {
            "colorbar": {
             "outlinewidth": 0,
             "ticks": ""
            },
            "type": "choropleth"
           }
          ],
          "contour": [
           {
            "colorbar": {
             "outlinewidth": 0,
             "ticks": ""
            },
            "colorscale": [
             [
              0,
              "#0d0887"
             ],
             [
              0.1111111111111111,
              "#46039f"
             ],
             [
              0.2222222222222222,
              "#7201a8"
             ],
             [
              0.3333333333333333,
              "#9c179e"
             ],
             [
              0.4444444444444444,
              "#bd3786"
             ],
             [
              0.5555555555555556,
              "#d8576b"
             ],
             [
              0.6666666666666666,
              "#ed7953"
             ],
             [
              0.7777777777777778,
              "#fb9f3a"
             ],
             [
              0.8888888888888888,
              "#fdca26"
             ],
             [
              1,
              "#f0f921"
             ]
            ],
            "type": "contour"
           }
          ],
          "contourcarpet": [
           {
            "colorbar": {
             "outlinewidth": 0,
             "ticks": ""
            },
            "type": "contourcarpet"
           }
          ],
          "heatmap": [
           {
            "colorbar": {
             "outlinewidth": 0,
             "ticks": ""
            },
            "colorscale": [
             [
              0,
              "#0d0887"
             ],
             [
              0.1111111111111111,
              "#46039f"
             ],
             [
              0.2222222222222222,
              "#7201a8"
             ],
             [
              0.3333333333333333,
              "#9c179e"
             ],
             [
              0.4444444444444444,
              "#bd3786"
             ],
             [
              0.5555555555555556,
              "#d8576b"
             ],
             [
              0.6666666666666666,
              "#ed7953"
             ],
             [
              0.7777777777777778,
              "#fb9f3a"
             ],
             [
              0.8888888888888888,
              "#fdca26"
             ],
             [
              1,
              "#f0f921"
             ]
            ],
            "type": "heatmap"
           }
          ],
          "heatmapgl": [
           {
            "colorbar": {
             "outlinewidth": 0,
             "ticks": ""
            },
            "colorscale": [
             [
              0,
              "#0d0887"
             ],
             [
              0.1111111111111111,
              "#46039f"
             ],
             [
              0.2222222222222222,
              "#7201a8"
             ],
             [
              0.3333333333333333,
              "#9c179e"
             ],
             [
              0.4444444444444444,
              "#bd3786"
             ],
             [
              0.5555555555555556,
              "#d8576b"
             ],
             [
              0.6666666666666666,
              "#ed7953"
             ],
             [
              0.7777777777777778,
              "#fb9f3a"
             ],
             [
              0.8888888888888888,
              "#fdca26"
             ],
             [
              1,
              "#f0f921"
             ]
            ],
            "type": "heatmapgl"
           }
          ],
          "histogram": [
           {
            "marker": {
             "colorbar": {
              "outlinewidth": 0,
              "ticks": ""
             }
            },
            "type": "histogram"
           }
          ],
          "histogram2d": [
           {
            "colorbar": {
             "outlinewidth": 0,
             "ticks": ""
            },
            "colorscale": [
             [
              0,
              "#0d0887"
             ],
             [
              0.1111111111111111,
              "#46039f"
             ],
             [
              0.2222222222222222,
              "#7201a8"
             ],
             [
              0.3333333333333333,
              "#9c179e"
             ],
             [
              0.4444444444444444,
              "#bd3786"
             ],
             [
              0.5555555555555556,
              "#d8576b"
             ],
             [
              0.6666666666666666,
              "#ed7953"
             ],
             [
              0.7777777777777778,
              "#fb9f3a"
             ],
             [
              0.8888888888888888,
              "#fdca26"
             ],
             [
              1,
              "#f0f921"
             ]
            ],
            "type": "histogram2d"
           }
          ],
          "histogram2dcontour": [
           {
            "colorbar": {
             "outlinewidth": 0,
             "ticks": ""
            },
            "colorscale": [
             [
              0,
              "#0d0887"
             ],
             [
              0.1111111111111111,
              "#46039f"
             ],
             [
              0.2222222222222222,
              "#7201a8"
             ],
             [
              0.3333333333333333,
              "#9c179e"
             ],
             [
              0.4444444444444444,
              "#bd3786"
             ],
             [
              0.5555555555555556,
              "#d8576b"
             ],
             [
              0.6666666666666666,
              "#ed7953"
             ],
             [
              0.7777777777777778,
              "#fb9f3a"
             ],
             [
              0.8888888888888888,
              "#fdca26"
             ],
             [
              1,
              "#f0f921"
             ]
            ],
            "type": "histogram2dcontour"
           }
          ],
          "mesh3d": [
           {
            "colorbar": {
             "outlinewidth": 0,
             "ticks": ""
            },
            "type": "mesh3d"
           }
          ],
          "parcoords": [
           {
            "line": {
             "colorbar": {
              "outlinewidth": 0,
              "ticks": ""
             }
            },
            "type": "parcoords"
           }
          ],
          "pie": [
           {
            "automargin": true,
            "type": "pie"
           }
          ],
          "scatter": [
           {
            "marker": {
             "colorbar": {
              "outlinewidth": 0,
              "ticks": ""
             }
            },
            "type": "scatter"
           }
          ],
          "scatter3d": [
           {
            "line": {
             "colorbar": {
              "outlinewidth": 0,
              "ticks": ""
             }
            },
            "marker": {
             "colorbar": {
              "outlinewidth": 0,
              "ticks": ""
             }
            },
            "type": "scatter3d"
           }
          ],
          "scattercarpet": [
           {
            "marker": {
             "colorbar": {
              "outlinewidth": 0,
              "ticks": ""
             }
            },
            "type": "scattercarpet"
           }
          ],
          "scattergeo": [
           {
            "marker": {
             "colorbar": {
              "outlinewidth": 0,
              "ticks": ""
             }
            },
            "type": "scattergeo"
           }
          ],
          "scattergl": [
           {
            "marker": {
             "colorbar": {
              "outlinewidth": 0,
              "ticks": ""
             }
            },
            "type": "scattergl"
           }
          ],
          "scattermapbox": [
           {
            "marker": {
             "colorbar": {
              "outlinewidth": 0,
              "ticks": ""
             }
            },
            "type": "scattermapbox"
           }
          ],
          "scatterpolar": [
           {
            "marker": {
             "colorbar": {
              "outlinewidth": 0,
              "ticks": ""
             }
            },
            "type": "scatterpolar"
           }
          ],
          "scatterpolargl": [
           {
            "marker": {
             "colorbar": {
              "outlinewidth": 0,
              "ticks": ""
             }
            },
            "type": "scatterpolargl"
           }
          ],
          "scatterternary": [
           {
            "marker": {
             "colorbar": {
              "outlinewidth": 0,
              "ticks": ""
             }
            },
            "type": "scatterternary"
           }
          ],
          "surface": [
           {
            "colorbar": {
             "outlinewidth": 0,
             "ticks": ""
            },
            "colorscale": [
             [
              0,
              "#0d0887"
             ],
             [
              0.1111111111111111,
              "#46039f"
             ],
             [
              0.2222222222222222,
              "#7201a8"
             ],
             [
              0.3333333333333333,
              "#9c179e"
             ],
             [
              0.4444444444444444,
              "#bd3786"
             ],
             [
              0.5555555555555556,
              "#d8576b"
             ],
             [
              0.6666666666666666,
              "#ed7953"
             ],
             [
              0.7777777777777778,
              "#fb9f3a"
             ],
             [
              0.8888888888888888,
              "#fdca26"
             ],
             [
              1,
              "#f0f921"
             ]
            ],
            "type": "surface"
           }
          ],
          "table": [
           {
            "cells": {
             "fill": {
              "color": "#EBF0F8"
             },
             "line": {
              "color": "white"
             }
            },
            "header": {
             "fill": {
              "color": "#C8D4E3"
             },
             "line": {
              "color": "white"
             }
            },
            "type": "table"
           }
          ]
         },
         "layout": {
          "annotationdefaults": {
           "arrowcolor": "#2a3f5f",
           "arrowhead": 0,
           "arrowwidth": 1
          },
          "autotypenumbers": "strict",
          "coloraxis": {
           "colorbar": {
            "outlinewidth": 0,
            "ticks": ""
           }
          },
          "colorscale": {
           "diverging": [
            [
             0,
             "#8e0152"
            ],
            [
             0.1,
             "#c51b7d"
            ],
            [
             0.2,
             "#de77ae"
            ],
            [
             0.3,
             "#f1b6da"
            ],
            [
             0.4,
             "#fde0ef"
            ],
            [
             0.5,
             "#f7f7f7"
            ],
            [
             0.6,
             "#e6f5d0"
            ],
            [
             0.7,
             "#b8e186"
            ],
            [
             0.8,
             "#7fbc41"
            ],
            [
             0.9,
             "#4d9221"
            ],
            [
             1,
             "#276419"
            ]
           ],
           "sequential": [
            [
             0,
             "#0d0887"
            ],
            [
             0.1111111111111111,
             "#46039f"
            ],
            [
             0.2222222222222222,
             "#7201a8"
            ],
            [
             0.3333333333333333,
             "#9c179e"
            ],
            [
             0.4444444444444444,
             "#bd3786"
            ],
            [
             0.5555555555555556,
             "#d8576b"
            ],
            [
             0.6666666666666666,
             "#ed7953"
            ],
            [
             0.7777777777777778,
             "#fb9f3a"
            ],
            [
             0.8888888888888888,
             "#fdca26"
            ],
            [
             1,
             "#f0f921"
            ]
           ],
           "sequentialminus": [
            [
             0,
             "#0d0887"
            ],
            [
             0.1111111111111111,
             "#46039f"
            ],
            [
             0.2222222222222222,
             "#7201a8"
            ],
            [
             0.3333333333333333,
             "#9c179e"
            ],
            [
             0.4444444444444444,
             "#bd3786"
            ],
            [
             0.5555555555555556,
             "#d8576b"
            ],
            [
             0.6666666666666666,
             "#ed7953"
            ],
            [
             0.7777777777777778,
             "#fb9f3a"
            ],
            [
             0.8888888888888888,
             "#fdca26"
            ],
            [
             1,
             "#f0f921"
            ]
           ]
          },
          "colorway": [
           "#636efa",
           "#EF553B",
           "#00cc96",
           "#ab63fa",
           "#FFA15A",
           "#19d3f3",
           "#FF6692",
           "#B6E880",
           "#FF97FF",
           "#FECB52"
          ],
          "font": {
           "color": "#2a3f5f"
          },
          "geo": {
           "bgcolor": "white",
           "lakecolor": "white",
           "landcolor": "#E5ECF6",
           "showlakes": true,
           "showland": true,
           "subunitcolor": "white"
          },
          "hoverlabel": {
           "align": "left"
          },
          "hovermode": "closest",
          "mapbox": {
           "style": "light"
          },
          "paper_bgcolor": "white",
          "plot_bgcolor": "#E5ECF6",
          "polar": {
           "angularaxis": {
            "gridcolor": "white",
            "linecolor": "white",
            "ticks": ""
           },
           "bgcolor": "#E5ECF6",
           "radialaxis": {
            "gridcolor": "white",
            "linecolor": "white",
            "ticks": ""
           }
          },
          "scene": {
           "xaxis": {
            "backgroundcolor": "#E5ECF6",
            "gridcolor": "white",
            "gridwidth": 2,
            "linecolor": "white",
            "showbackground": true,
            "ticks": "",
            "zerolinecolor": "white"
           },
           "yaxis": {
            "backgroundcolor": "#E5ECF6",
            "gridcolor": "white",
            "gridwidth": 2,
            "linecolor": "white",
            "showbackground": true,
            "ticks": "",
            "zerolinecolor": "white"
           },
           "zaxis": {
            "backgroundcolor": "#E5ECF6",
            "gridcolor": "white",
            "gridwidth": 2,
            "linecolor": "white",
            "showbackground": true,
            "ticks": "",
            "zerolinecolor": "white"
           }
          },
          "shapedefaults": {
           "line": {
            "color": "#2a3f5f"
           }
          },
          "ternary": {
           "aaxis": {
            "gridcolor": "white",
            "linecolor": "white",
            "ticks": ""
           },
           "baxis": {
            "gridcolor": "white",
            "linecolor": "white",
            "ticks": ""
           },
           "bgcolor": "#E5ECF6",
           "caxis": {
            "gridcolor": "white",
            "linecolor": "white",
            "ticks": ""
           }
          },
          "title": {
           "x": 0.05
          },
          "xaxis": {
           "automargin": true,
           "gridcolor": "white",
           "linecolor": "white",
           "ticks": "",
           "title": {
            "standoff": 15
           },
           "zerolinecolor": "white",
           "zerolinewidth": 2
          },
          "yaxis": {
           "automargin": true,
           "gridcolor": "white",
           "linecolor": "white",
           "ticks": "",
           "title": {
            "standoff": 15
           },
           "zerolinecolor": "white",
           "zerolinewidth": 2
          }
         }
        }
       }
      }
     },
     "metadata": {}
    }
   ],
   "source": [
    "#df4 = pd.DataFrame(dict(r =df3.iloc[1].values.flatten().tolist(), theta = list(df3)[0:]))\n",
    "\n",
    "\n",
    "fig = px.line_polar(sum_column, r = list(sum_column), theta= list(df3)[0:], line_close=True)\n",
    "fig.update_traces(fill='toself')\n"
   ]
  },
  {
   "cell_type": "code",
   "execution_count": 18,
   "metadata": {},
   "outputs": [],
   "source": [
    "import pandas as pd \n",
    "\n",
    "df = pd.read_csv('test_data')"
   ]
  },
  {
   "cell_type": "code",
   "execution_count": 4,
   "metadata": {},
   "outputs": [],
   "source": [
    "df = df.drop('Unnamed: 0', axis=1)"
   ]
  },
  {
   "cell_type": "code",
   "execution_count": 66,
   "metadata": {},
   "outputs": [
    {
     "output_type": "execute_result",
     "data": {
      "text/plain": [
       "            time         open        close        volume    market_cap  \\\n",
       "273   2019-11-11  8975.280060  8725.853005  1.451144e+10  1.569828e+11   \n",
       "1121  2019-11-11    19.748543    20.076156  1.709973e+08  3.102983e+09   \n",
       "1841  2019-11-11   183.285969   184.755322  5.219993e+09  2.019704e+10   \n",
       "\n",
       "      url_shares  unique_url_shares  reddit_posts  reddit_posts_score  \\\n",
       "273      25592.0            17354.0         351.0              6343.0   \n",
       "1121       212.0              172.0           9.0                49.0   \n",
       "1841      6476.0             3727.0         153.0              1533.0   \n",
       "\n",
       "      reddit_comments  ...  tweet_spam  tweet_followers  tweet_quotes  \\\n",
       "273            1153.0  ...      6618.0      213214914.0         645.0   \n",
       "1121              8.0  ...       566.0        2122630.0          17.0   \n",
       "1841            360.0  ...      4839.0       20955905.0         110.0   \n",
       "\n",
       "      tweet_retweets  tweet_replies  tweet_favorites  news  volatility  \\\n",
       "273          35283.0         2994.0          27314.0  76.0    0.015142   \n",
       "1121           154.0           68.0            517.0   6.0    0.010876   \n",
       "1841          9196.0          449.0           3989.0  51.0    0.009125   \n",
       "\n",
       "      youtube  name  \n",
       "273       NaN   BTC  \n",
       "1121      NaN   BNB  \n",
       "1841      NaN   ETH  \n",
       "\n",
       "[3 rows x 21 columns]"
      ],
      "text/html": "<div>\n<style scoped>\n    .dataframe tbody tr th:only-of-type {\n        vertical-align: middle;\n    }\n\n    .dataframe tbody tr th {\n        vertical-align: top;\n    }\n\n    .dataframe thead th {\n        text-align: right;\n    }\n</style>\n<table border=\"1\" class=\"dataframe\">\n  <thead>\n    <tr style=\"text-align: right;\">\n      <th></th>\n      <th>time</th>\n      <th>open</th>\n      <th>close</th>\n      <th>volume</th>\n      <th>market_cap</th>\n      <th>url_shares</th>\n      <th>unique_url_shares</th>\n      <th>reddit_posts</th>\n      <th>reddit_posts_score</th>\n      <th>reddit_comments</th>\n      <th>...</th>\n      <th>tweet_spam</th>\n      <th>tweet_followers</th>\n      <th>tweet_quotes</th>\n      <th>tweet_retweets</th>\n      <th>tweet_replies</th>\n      <th>tweet_favorites</th>\n      <th>news</th>\n      <th>volatility</th>\n      <th>youtube</th>\n      <th>name</th>\n    </tr>\n  </thead>\n  <tbody>\n    <tr>\n      <th>273</th>\n      <td>2019-11-11</td>\n      <td>8975.280060</td>\n      <td>8725.853005</td>\n      <td>1.451144e+10</td>\n      <td>1.569828e+11</td>\n      <td>25592.0</td>\n      <td>17354.0</td>\n      <td>351.0</td>\n      <td>6343.0</td>\n      <td>1153.0</td>\n      <td>...</td>\n      <td>6618.0</td>\n      <td>213214914.0</td>\n      <td>645.0</td>\n      <td>35283.0</td>\n      <td>2994.0</td>\n      <td>27314.0</td>\n      <td>76.0</td>\n      <td>0.015142</td>\n      <td>NaN</td>\n      <td>BTC</td>\n    </tr>\n    <tr>\n      <th>1121</th>\n      <td>2019-11-11</td>\n      <td>19.748543</td>\n      <td>20.076156</td>\n      <td>1.709973e+08</td>\n      <td>3.102983e+09</td>\n      <td>212.0</td>\n      <td>172.0</td>\n      <td>9.0</td>\n      <td>49.0</td>\n      <td>8.0</td>\n      <td>...</td>\n      <td>566.0</td>\n      <td>2122630.0</td>\n      <td>17.0</td>\n      <td>154.0</td>\n      <td>68.0</td>\n      <td>517.0</td>\n      <td>6.0</td>\n      <td>0.010876</td>\n      <td>NaN</td>\n      <td>BNB</td>\n    </tr>\n    <tr>\n      <th>1841</th>\n      <td>2019-11-11</td>\n      <td>183.285969</td>\n      <td>184.755322</td>\n      <td>5.219993e+09</td>\n      <td>2.019704e+10</td>\n      <td>6476.0</td>\n      <td>3727.0</td>\n      <td>153.0</td>\n      <td>1533.0</td>\n      <td>360.0</td>\n      <td>...</td>\n      <td>4839.0</td>\n      <td>20955905.0</td>\n      <td>110.0</td>\n      <td>9196.0</td>\n      <td>449.0</td>\n      <td>3989.0</td>\n      <td>51.0</td>\n      <td>0.009125</td>\n      <td>NaN</td>\n      <td>ETH</td>\n    </tr>\n  </tbody>\n</table>\n<p>3 rows × 21 columns</p>\n</div>"
     },
     "metadata": {},
     "execution_count": 66
    }
   ],
   "source": [
    "df_v = df.loc[df['time'] == '2019-11-11']\n",
    "df_v"
   ]
  },
  {
   "cell_type": "code",
   "execution_count": 37,
   "metadata": {},
   "outputs": [
    {
     "output_type": "error",
     "ename": "NameError",
     "evalue": "name 'df' is not defined",
     "traceback": [
      "\u001b[0;31m---------------------------------------------------------------------------\u001b[0m",
      "\u001b[0;31mNameError\u001b[0m                                 Traceback (most recent call last)",
      "\u001b[0;32m<ipython-input-37-34195f046e75>\u001b[0m in \u001b[0;36m<module>\u001b[0;34m\u001b[0m\n\u001b[1;32m      4\u001b[0m \u001b[0mend_date\u001b[0m \u001b[0;34m=\u001b[0m \u001b[0;34m'2019-11-30'\u001b[0m\u001b[0;34m\u001b[0m\u001b[0;34m\u001b[0m\u001b[0m\n\u001b[1;32m      5\u001b[0m \u001b[0;34m\u001b[0m\u001b[0m\n\u001b[0;32m----> 6\u001b[0;31m \u001b[0ma\u001b[0m \u001b[0;34m=\u001b[0m \u001b[0mdf\u001b[0m\u001b[0;34m.\u001b[0m\u001b[0mloc\u001b[0m\u001b[0;34m[\u001b[0m\u001b[0mdf\u001b[0m\u001b[0;34m[\u001b[0m\u001b[0;34m'time'\u001b[0m\u001b[0;34m]\u001b[0m\u001b[0;34m.\u001b[0m\u001b[0mbetween\u001b[0m\u001b[0;34m(\u001b[0m\u001b[0mstart_date\u001b[0m\u001b[0;34m,\u001b[0m \u001b[0mend_date\u001b[0m\u001b[0;34m)\u001b[0m\u001b[0;34m]\u001b[0m\u001b[0;34m.\u001b[0m\u001b[0mloc\u001b[0m\u001b[0;34m[\u001b[0m\u001b[0mdf\u001b[0m\u001b[0;34m[\u001b[0m\u001b[0;34m'name'\u001b[0m\u001b[0;34m]\u001b[0m\u001b[0;34m==\u001b[0m\u001b[0;34m'BTC'\u001b[0m\u001b[0;34m]\u001b[0m\u001b[0;34m\u001b[0m\u001b[0;34m\u001b[0m\u001b[0m\n\u001b[0m",
      "\u001b[0;31mNameError\u001b[0m: name 'df' is not defined"
     ]
    }
   ],
   "source": [
    "import datetime as dt\n",
    "start_date = '2019-11-11'\n",
    "\n",
    "end_date = '2019-11-30'\n",
    "\n",
    "a = df.loc[df['time'].between(start_date, end_date)].loc[df['name']=='BTC']"
   ]
  },
  {
   "cell_type": "code",
   "execution_count": 22,
   "metadata": {},
   "outputs": [
    {
     "output_type": "execute_result",
     "data": {
      "text/plain": [
       "Index(['Unnamed: 0', 'time', 'open', 'close', 'volume', 'market_cap',\n",
       "       'url_shares', 'unique_url_shares', 'reddit_posts', 'reddit_posts_score',\n",
       "       'reddit_comments', 'tweets', 'tweet_spam', 'tweet_followers',\n",
       "       'tweet_quotes', 'tweet_retweets', 'tweet_replies', 'tweet_favorites',\n",
       "       'news', 'volatility', 'youtube', 'name'],\n",
       "      dtype='object')"
      ]
     },
     "metadata": {},
     "execution_count": 22
    }
   ],
   "source": [
    "df.columns"
   ]
  },
  {
   "cell_type": "code",
   "execution_count": 2,
   "metadata": {},
   "outputs": [
    {
     "output_type": "error",
     "ename": "ModuleNotFoundError",
     "evalue": "No module named 'pandas_datareader'",
     "traceback": [
      "\u001b[0;31m---------------------------------------------------------------------------\u001b[0m",
      "\u001b[0;31mModuleNotFoundError\u001b[0m                       Traceback (most recent call last)",
      "\u001b[0;32m<ipython-input-2-8d8c49d406c9>\u001b[0m in \u001b[0;36m<module>\u001b[0;34m\u001b[0m\n\u001b[0;32m----> 1\u001b[0;31m \u001b[0;32mimport\u001b[0m \u001b[0mpandas_datareader\u001b[0m\u001b[0;34m.\u001b[0m\u001b[0mdata\u001b[0m \u001b[0;32mas\u001b[0m \u001b[0mweb\u001b[0m\u001b[0;34m\u001b[0m\u001b[0;34m\u001b[0m\u001b[0m\n\u001b[0m\u001b[1;32m      2\u001b[0m \u001b[0;34m\u001b[0m\u001b[0m\n\u001b[1;32m      3\u001b[0m \u001b[0msymbols\u001b[0m \u001b[0;34m=\u001b[0m \u001b[0mweb\u001b[0m\u001b[0;34m.\u001b[0m\u001b[0mget_iex_symbols\u001b[0m\u001b[0;34m(\u001b[0m\u001b[0;34m)\u001b[0m\u001b[0;34m\u001b[0m\u001b[0;34m\u001b[0m\u001b[0m\n\u001b[1;32m      4\u001b[0m \u001b[0msymbols_list\u001b[0m \u001b[0;34m=\u001b[0m \u001b[0mpd\u001b[0m\u001b[0;34m.\u001b[0m\u001b[0mDataFrame\u001b[0m\u001b[0;34m(\u001b[0m\u001b[0;34m{\u001b[0m\u001b[0;34m'symbol'\u001b[0m\u001b[0;34m:\u001b[0m \u001b[0msymbols\u001b[0m\u001b[0;34m[\u001b[0m\u001b[0;34m'symbol'\u001b[0m\u001b[0;34m]\u001b[0m\u001b[0;34m,\u001b[0m \u001b[0;34m'name'\u001b[0m\u001b[0;34m:\u001b[0m \u001b[0msymbols\u001b[0m\u001b[0;34m[\u001b[0m\u001b[0;34m'name'\u001b[0m\u001b[0;34m]\u001b[0m\u001b[0;34m}\u001b[0m\u001b[0;34m)\u001b[0m\u001b[0;34m\u001b[0m\u001b[0;34m\u001b[0m\u001b[0m\n",
      "\u001b[0;31mModuleNotFoundError\u001b[0m: No module named 'pandas_datareader'"
     ]
    }
   ],
   "source": []
  },
  {
   "cell_type": "code",
   "execution_count": 168,
   "metadata": {},
   "outputs": [],
   "source": [
    "import pandas as pd\n",
    "import numpy as np\n",
    "\n",
    "import matplotlib.pyplot as plt\n",
    "%matplotlib inline\n",
    "\n",
    "from matplotlib.pylab import rcParams\n",
    "rcParams['figure.figsize']=20,10\n",
    "from keras.models import Sequential\n",
    "from keras.layers import LSTM,Dropout,Dense\n",
    "from sklearn.preprocessing import MinMaxScaler"
   ]
  },
  {
   "cell_type": "code",
   "execution_count": 170,
   "metadata": {},
   "outputs": [
    {
     "output_type": "error",
     "ename": "NameError",
     "evalue": "name 'new_data1' is not defined",
     "traceback": [
      "\u001b[0;31m---------------------------------------------------------------------------\u001b[0m",
      "\u001b[0;31mNameError\u001b[0m                                 Traceback (most recent call last)",
      "\u001b[0;32m<ipython-input-170-c47698c34f4d>\u001b[0m in \u001b[0;36m<module>\u001b[0;34m\u001b[0m\n\u001b[1;32m      7\u001b[0m \u001b[0mend_date\u001b[0m \u001b[0;34m=\u001b[0m \u001b[0;34m'2019-11-30'\u001b[0m\u001b[0;34m\u001b[0m\u001b[0;34m\u001b[0m\u001b[0m\n\u001b[1;32m      8\u001b[0m \u001b[0mnew_data_1\u001b[0m \u001b[0;34m=\u001b[0m\u001b[0mcoin_df\u001b[0m\u001b[0;34m.\u001b[0m\u001b[0mloc\u001b[0m\u001b[0;34m[\u001b[0m\u001b[0mcoin_df\u001b[0m\u001b[0;34m[\u001b[0m\u001b[0;34m'time'\u001b[0m\u001b[0;34m]\u001b[0m\u001b[0;34m.\u001b[0m\u001b[0mbetween\u001b[0m\u001b[0;34m(\u001b[0m\u001b[0mstart_date\u001b[0m\u001b[0;34m,\u001b[0m \u001b[0mend_date\u001b[0m\u001b[0;34m)\u001b[0m\u001b[0;34m]\u001b[0m\u001b[0;34m\u001b[0m\u001b[0;34m\u001b[0m\u001b[0m\n\u001b[0;32m----> 9\u001b[0;31m \u001b[0mnew_data_2\u001b[0m \u001b[0;34m=\u001b[0m \u001b[0mnew_data_1\u001b[0m\u001b[0;34m.\u001b[0m\u001b[0mloc\u001b[0m\u001b[0;34m[\u001b[0m\u001b[0mnew_data1\u001b[0m\u001b[0;34m[\u001b[0m\u001b[0;34m'name'\u001b[0m\u001b[0;34m]\u001b[0m \u001b[0;34m==\u001b[0m \u001b[0;34m'BTC'\u001b[0m\u001b[0;34m]\u001b[0m\u001b[0;34m\u001b[0m\u001b[0;34m\u001b[0m\u001b[0m\n\u001b[0m\u001b[1;32m     10\u001b[0m \u001b[0mnew_data_2\u001b[0m\u001b[0;34m.\u001b[0m\u001b[0mindex\u001b[0m \u001b[0;34m=\u001b[0m \u001b[0mnew_data_2\u001b[0m\u001b[0;34m.\u001b[0m\u001b[0mtime\u001b[0m\u001b[0;34m\u001b[0m\u001b[0;34m\u001b[0m\u001b[0m\n\u001b[1;32m     11\u001b[0m \u001b[0mnew_data_2\u001b[0m\u001b[0;34m.\u001b[0m\u001b[0mdrop\u001b[0m\u001b[0;34m(\u001b[0m\u001b[0;34m'time'\u001b[0m\u001b[0;34m,\u001b[0m \u001b[0maxis\u001b[0m\u001b[0;34m=\u001b[0m\u001b[0;36m1\u001b[0m\u001b[0;34m,\u001b[0m \u001b[0minplace\u001b[0m\u001b[0;34m=\u001b[0m\u001b[0;32mTrue\u001b[0m\u001b[0;34m)\u001b[0m\u001b[0;34m\u001b[0m\u001b[0;34m\u001b[0m\u001b[0m\n",
      "\u001b[0;31mNameError\u001b[0m: name 'new_data1' is not defined"
     ]
    }
   ],
   "source": [
    "coin_df=pd.read_csv('test_data') \n",
    "coin_df=coin_df[['time', 'close','name']].copy()\n",
    "\n",
    "#Droping dates with no closing price inforamtion\n",
    "\n",
    "start_date = '2019-11-11'\n",
    "end_date = '2019-11-30'\n",
    "new_data_1 =coin_df.loc[coin_df['time'].between(start_date, end_date)]\n",
    "new_data_2 = new_data_1.loc[new_data1['name'] == 'BTC']\n",
    "new_data_2.index = new_data_2.time\n",
    "new_data_2.drop('time', axis=1, inplace=True)\n",
    "new_data_2.drop('name', axis=1, inplace= True)\n",
    "final_dataset = new_data_2.values\n",
    "final_dataset\n"
   ]
  },
  {
   "cell_type": "code",
   "execution_count": 131,
   "metadata": {},
   "outputs": [],
   "source": [
    "L = len(final_dataset)"
   ]
  },
  {
   "cell_type": "code",
   "execution_count": 145,
   "metadata": {},
   "outputs": [],
   "source": [
    "train_data=final_dataset[0:int(len(final_dataset)*0.80)]\n",
    "valid_data=final_dataset[int(len(final_dataset)*0.80):]\n",
    "\n",
    "scaler=MinMaxScaler(feature_range=(0,1))\n",
    "scaled_data=scaler.fit_transform(final_dataset)\n",
    "\n",
    "\n",
    "x_train_data,y_train_data=[],[]\n",
    "for i in range(10,len(train_data)):\n",
    "    x_train_data.append(scaled_data[i-10:i,0])\n",
    "    y_train_data.append(scaled_data[i,0])\n",
    "    \n",
    "x_train_data,y_train_data=np.array(x_train_data),np.array(y_train_data)\n",
    "x_train_data=np.reshape(x_train_data,(x_train_data.shape[0],x_train_data.shape[1],1))"
   ]
  },
  {
   "cell_type": "code",
   "execution_count": 149,
   "metadata": {},
   "outputs": [
    {
     "output_type": "stream",
     "name": "stdout",
     "text": [
      "6/6 - 3s - loss: 0.0198\n"
     ]
    },
    {
     "output_type": "execute_result",
     "data": {
      "text/plain": [
       "<tensorflow.python.keras.callbacks.History at 0x7fc13e0240a0>"
      ]
     },
     "metadata": {},
     "execution_count": 149
    }
   ],
   "source": [
    "lstm_model=Sequential()\n",
    "lstm_model.add(LSTM(units=50,return_sequences=True,input_shape=(x_train_data.shape[1],1)))\n",
    "lstm_model.add(LSTM(units=50))\n",
    "lstm_model.add(Dense(1))\n",
    "\n",
    "inputs_data=new_data_2[len(new_data_2)-len(valid_data)-60:].values\n",
    "inputs_data=inputs_data.reshape(-1,1)\n",
    "inputs_data=scaler.transform(inputs_data)\n",
    "\n",
    "lstm_model.compile(loss='mean_squared_error',optimizer='adam')\n",
    "lstm_model.fit(x_train_data,y_train_data,epochs=1,batch_size=1,verbose=2)"
   ]
  },
  {
   "cell_type": "code",
   "execution_count": 155,
   "metadata": {},
   "outputs": [
    {
     "output_type": "stream",
     "name": "stderr",
     "text": [
      "WARNING:absl:Found untraced functions such as lstm_cell_9_layer_call_and_return_conditional_losses, lstm_cell_9_layer_call_fn, lstm_cell_10_layer_call_and_return_conditional_losses, lstm_cell_10_layer_call_fn, lstm_cell_9_layer_call_fn while saving (showing 5 of 10). These functions will not be directly callable after loading.\n",
      "WARNING:absl:Found untraced functions such as lstm_cell_9_layer_call_and_return_conditional_losses, lstm_cell_9_layer_call_fn, lstm_cell_10_layer_call_and_return_conditional_losses, lstm_cell_10_layer_call_fn, lstm_cell_9_layer_call_fn while saving (showing 5 of 10). These functions will not be directly callable after loading.\n",
      "INFO:tensorflow:Assets written to: saved_model.h6/assets\n",
      "INFO:tensorflow:Assets written to: saved_model.h6/assets\n"
     ]
    }
   ],
   "source": [
    "lstm_model.save(\"saved_model.h5\")"
   ]
  },
  {
   "cell_type": "code",
   "execution_count": 156,
   "metadata": {},
   "outputs": [
    {
     "output_type": "error",
     "ename": "IndexError",
     "evalue": "tuple index out of range",
     "traceback": [
      "\u001b[0;31m---------------------------------------------------------------------------\u001b[0m",
      "\u001b[0;31mIndexError\u001b[0m                                Traceback (most recent call last)",
      "\u001b[0;32m<ipython-input-156-4356de583cbc>\u001b[0m in \u001b[0;36m<module>\u001b[0;34m\u001b[0m\n\u001b[1;32m      4\u001b[0m \u001b[0mX_test\u001b[0m\u001b[0;34m=\u001b[0m\u001b[0mnp\u001b[0m\u001b[0;34m.\u001b[0m\u001b[0marray\u001b[0m\u001b[0;34m(\u001b[0m\u001b[0mX_test\u001b[0m\u001b[0;34m)\u001b[0m\u001b[0;34m\u001b[0m\u001b[0;34m\u001b[0m\u001b[0m\n\u001b[1;32m      5\u001b[0m \u001b[0;34m\u001b[0m\u001b[0m\n\u001b[0;32m----> 6\u001b[0;31m \u001b[0mX_test\u001b[0m\u001b[0;34m=\u001b[0m\u001b[0mnp\u001b[0m\u001b[0;34m.\u001b[0m\u001b[0mreshape\u001b[0m\u001b[0;34m(\u001b[0m\u001b[0mX_test\u001b[0m\u001b[0;34m,\u001b[0m\u001b[0;34m(\u001b[0m\u001b[0mX_test\u001b[0m\u001b[0;34m.\u001b[0m\u001b[0mshape\u001b[0m\u001b[0;34m[\u001b[0m\u001b[0;36m0\u001b[0m\u001b[0;34m]\u001b[0m\u001b[0;34m,\u001b[0m\u001b[0mX_test\u001b[0m\u001b[0;34m.\u001b[0m\u001b[0mshape\u001b[0m\u001b[0;34m[\u001b[0m\u001b[0;36m1\u001b[0m\u001b[0;34m]\u001b[0m\u001b[0;34m,\u001b[0m\u001b[0;36m1\u001b[0m\u001b[0;34m)\u001b[0m\u001b[0;34m)\u001b[0m\u001b[0;34m\u001b[0m\u001b[0;34m\u001b[0m\u001b[0m\n\u001b[0m\u001b[1;32m      7\u001b[0m \u001b[0mpredicted_closing_price\u001b[0m\u001b[0;34m=\u001b[0m\u001b[0mlstm_model\u001b[0m\u001b[0;34m.\u001b[0m\u001b[0mpredict\u001b[0m\u001b[0;34m(\u001b[0m\u001b[0mX_test\u001b[0m\u001b[0;34m)\u001b[0m\u001b[0;34m\u001b[0m\u001b[0;34m\u001b[0m\u001b[0m\n\u001b[1;32m      8\u001b[0m \u001b[0mpredicted_closing_price\u001b[0m\u001b[0;34m=\u001b[0m\u001b[0mscaler\u001b[0m\u001b[0;34m.\u001b[0m\u001b[0minverse_transform\u001b[0m\u001b[0;34m(\u001b[0m\u001b[0mpredicted_closing_price\u001b[0m\u001b[0;34m)\u001b[0m\u001b[0;34m\u001b[0m\u001b[0;34m\u001b[0m\u001b[0m\n",
      "\u001b[0;31mIndexError\u001b[0m: tuple index out of range"
     ]
    }
   ],
   "source": [
    "X_test=[]\n",
    "for i in range(60,inputs_data.shape[0]):\n",
    "    X_test.append(inputs_data[i-10:i,0])\n",
    "X_test=np.array(X_test)\n",
    "\n",
    "X_test=np.reshape(X_test,(X_test.shape[0],X_test.shape[1],1))\n",
    "predicted_closing_price=lstm_model.predict(X_test)\n",
    "predicted_closing_price=scaler.inverse_transform(predicted_closing_price)\n"
   ]
  },
  {
   "cell_type": "code",
   "execution_count": 153,
   "metadata": {},
   "outputs": [
    {
     "output_type": "error",
     "ename": "ValueError",
     "evalue": "Length of values (10) does not match length of index (4)",
     "traceback": [
      "\u001b[0;31m---------------------------------------------------------------------------\u001b[0m",
      "\u001b[0;31mValueError\u001b[0m                                Traceback (most recent call last)",
      "\u001b[0;32m<ipython-input-153-b93b676b30f9>\u001b[0m in \u001b[0;36m<module>\u001b[0;34m\u001b[0m\n\u001b[1;32m      1\u001b[0m \u001b[0mtrain_data\u001b[0m\u001b[0;34m=\u001b[0m\u001b[0mnew_data_2\u001b[0m\u001b[0;34m[\u001b[0m\u001b[0;36m0\u001b[0m\u001b[0;34m:\u001b[0m\u001b[0;36m16\u001b[0m\u001b[0;34m]\u001b[0m\u001b[0;34m\u001b[0m\u001b[0;34m\u001b[0m\u001b[0m\n\u001b[1;32m      2\u001b[0m \u001b[0mvalid_data\u001b[0m\u001b[0;34m=\u001b[0m\u001b[0mnew_data_2\u001b[0m\u001b[0;34m[\u001b[0m\u001b[0;36m16\u001b[0m\u001b[0;34m:\u001b[0m\u001b[0;34m]\u001b[0m\u001b[0;34m\u001b[0m\u001b[0;34m\u001b[0m\u001b[0m\n\u001b[0;32m----> 3\u001b[0;31m \u001b[0mvalid_data\u001b[0m\u001b[0;34m[\u001b[0m\u001b[0;34m'Predictions'\u001b[0m\u001b[0;34m]\u001b[0m\u001b[0;34m=\u001b[0m\u001b[0mpredicted_closing_price\u001b[0m\u001b[0;34m\u001b[0m\u001b[0;34m\u001b[0m\u001b[0m\n\u001b[0m\u001b[1;32m      4\u001b[0m \u001b[0mplt\u001b[0m\u001b[0;34m.\u001b[0m\u001b[0mplot\u001b[0m\u001b[0;34m(\u001b[0m\u001b[0mtrain_data\u001b[0m\u001b[0;34m[\u001b[0m\u001b[0;34m\"close\"\u001b[0m\u001b[0;34m]\u001b[0m\u001b[0;34m,\u001b[0m \u001b[0mlabel\u001b[0m \u001b[0;34m=\u001b[0m \u001b[0;34m'actual'\u001b[0m\u001b[0;34m)\u001b[0m\u001b[0;34m\u001b[0m\u001b[0;34m\u001b[0m\u001b[0m\n\u001b[1;32m      5\u001b[0m \u001b[0mplt\u001b[0m\u001b[0;34m.\u001b[0m\u001b[0mplot\u001b[0m\u001b[0;34m(\u001b[0m\u001b[0mvalid_data\u001b[0m\u001b[0;34m[\u001b[0m\u001b[0;34m[\u001b[0m\u001b[0;34m'close'\u001b[0m\u001b[0;34m,\u001b[0m\u001b[0;34m\"Predictions\"\u001b[0m\u001b[0;34m]\u001b[0m\u001b[0;34m]\u001b[0m\u001b[0;34m)\u001b[0m\u001b[0;34m\u001b[0m\u001b[0;34m\u001b[0m\u001b[0m\n",
      "\u001b[0;32m~/opt/anaconda3/envs/mlenb/lib/python3.8/site-packages/pandas/core/frame.py\u001b[0m in \u001b[0;36m__setitem__\u001b[0;34m(self, key, value)\u001b[0m\n\u001b[1;32m   3038\u001b[0m         \u001b[0;32melse\u001b[0m\u001b[0;34m:\u001b[0m\u001b[0;34m\u001b[0m\u001b[0;34m\u001b[0m\u001b[0m\n\u001b[1;32m   3039\u001b[0m             \u001b[0;31m# set column\u001b[0m\u001b[0;34m\u001b[0m\u001b[0;34m\u001b[0m\u001b[0;34m\u001b[0m\u001b[0m\n\u001b[0;32m-> 3040\u001b[0;31m             \u001b[0mself\u001b[0m\u001b[0;34m.\u001b[0m\u001b[0m_set_item\u001b[0m\u001b[0;34m(\u001b[0m\u001b[0mkey\u001b[0m\u001b[0;34m,\u001b[0m \u001b[0mvalue\u001b[0m\u001b[0;34m)\u001b[0m\u001b[0;34m\u001b[0m\u001b[0;34m\u001b[0m\u001b[0m\n\u001b[0m\u001b[1;32m   3041\u001b[0m \u001b[0;34m\u001b[0m\u001b[0m\n\u001b[1;32m   3042\u001b[0m     \u001b[0;32mdef\u001b[0m \u001b[0m_setitem_slice\u001b[0m\u001b[0;34m(\u001b[0m\u001b[0mself\u001b[0m\u001b[0;34m,\u001b[0m \u001b[0mkey\u001b[0m\u001b[0;34m:\u001b[0m \u001b[0mslice\u001b[0m\u001b[0;34m,\u001b[0m \u001b[0mvalue\u001b[0m\u001b[0;34m)\u001b[0m\u001b[0;34m:\u001b[0m\u001b[0;34m\u001b[0m\u001b[0;34m\u001b[0m\u001b[0m\n",
      "\u001b[0;32m~/opt/anaconda3/envs/mlenb/lib/python3.8/site-packages/pandas/core/frame.py\u001b[0m in \u001b[0;36m_set_item\u001b[0;34m(self, key, value)\u001b[0m\n\u001b[1;32m   3114\u001b[0m         \"\"\"\n\u001b[1;32m   3115\u001b[0m         \u001b[0mself\u001b[0m\u001b[0;34m.\u001b[0m\u001b[0m_ensure_valid_index\u001b[0m\u001b[0;34m(\u001b[0m\u001b[0mvalue\u001b[0m\u001b[0;34m)\u001b[0m\u001b[0;34m\u001b[0m\u001b[0;34m\u001b[0m\u001b[0m\n\u001b[0;32m-> 3116\u001b[0;31m         \u001b[0mvalue\u001b[0m \u001b[0;34m=\u001b[0m \u001b[0mself\u001b[0m\u001b[0;34m.\u001b[0m\u001b[0m_sanitize_column\u001b[0m\u001b[0;34m(\u001b[0m\u001b[0mkey\u001b[0m\u001b[0;34m,\u001b[0m \u001b[0mvalue\u001b[0m\u001b[0;34m)\u001b[0m\u001b[0;34m\u001b[0m\u001b[0;34m\u001b[0m\u001b[0m\n\u001b[0m\u001b[1;32m   3117\u001b[0m         \u001b[0mNDFrame\u001b[0m\u001b[0;34m.\u001b[0m\u001b[0m_set_item\u001b[0m\u001b[0;34m(\u001b[0m\u001b[0mself\u001b[0m\u001b[0;34m,\u001b[0m \u001b[0mkey\u001b[0m\u001b[0;34m,\u001b[0m \u001b[0mvalue\u001b[0m\u001b[0;34m)\u001b[0m\u001b[0;34m\u001b[0m\u001b[0;34m\u001b[0m\u001b[0m\n\u001b[1;32m   3118\u001b[0m \u001b[0;34m\u001b[0m\u001b[0m\n",
      "\u001b[0;32m~/opt/anaconda3/envs/mlenb/lib/python3.8/site-packages/pandas/core/frame.py\u001b[0m in \u001b[0;36m_sanitize_column\u001b[0;34m(self, key, value, broadcast)\u001b[0m\n\u001b[1;32m   3762\u001b[0m \u001b[0;34m\u001b[0m\u001b[0m\n\u001b[1;32m   3763\u001b[0m             \u001b[0;31m# turn me into an ndarray\u001b[0m\u001b[0;34m\u001b[0m\u001b[0;34m\u001b[0m\u001b[0;34m\u001b[0m\u001b[0m\n\u001b[0;32m-> 3764\u001b[0;31m             \u001b[0mvalue\u001b[0m \u001b[0;34m=\u001b[0m \u001b[0msanitize_index\u001b[0m\u001b[0;34m(\u001b[0m\u001b[0mvalue\u001b[0m\u001b[0;34m,\u001b[0m \u001b[0mself\u001b[0m\u001b[0;34m.\u001b[0m\u001b[0mindex\u001b[0m\u001b[0;34m)\u001b[0m\u001b[0;34m\u001b[0m\u001b[0;34m\u001b[0m\u001b[0m\n\u001b[0m\u001b[1;32m   3765\u001b[0m             \u001b[0;32mif\u001b[0m \u001b[0;32mnot\u001b[0m \u001b[0misinstance\u001b[0m\u001b[0;34m(\u001b[0m\u001b[0mvalue\u001b[0m\u001b[0;34m,\u001b[0m \u001b[0;34m(\u001b[0m\u001b[0mnp\u001b[0m\u001b[0;34m.\u001b[0m\u001b[0mndarray\u001b[0m\u001b[0;34m,\u001b[0m \u001b[0mIndex\u001b[0m\u001b[0;34m)\u001b[0m\u001b[0;34m)\u001b[0m\u001b[0;34m:\u001b[0m\u001b[0;34m\u001b[0m\u001b[0;34m\u001b[0m\u001b[0m\n\u001b[1;32m   3766\u001b[0m                 \u001b[0;32mif\u001b[0m \u001b[0misinstance\u001b[0m\u001b[0;34m(\u001b[0m\u001b[0mvalue\u001b[0m\u001b[0;34m,\u001b[0m \u001b[0mlist\u001b[0m\u001b[0;34m)\u001b[0m \u001b[0;32mand\u001b[0m \u001b[0mlen\u001b[0m\u001b[0;34m(\u001b[0m\u001b[0mvalue\u001b[0m\u001b[0;34m)\u001b[0m \u001b[0;34m>\u001b[0m \u001b[0;36m0\u001b[0m\u001b[0;34m:\u001b[0m\u001b[0;34m\u001b[0m\u001b[0;34m\u001b[0m\u001b[0m\n",
      "\u001b[0;32m~/opt/anaconda3/envs/mlenb/lib/python3.8/site-packages/pandas/core/internals/construction.py\u001b[0m in \u001b[0;36msanitize_index\u001b[0;34m(data, index)\u001b[0m\n\u001b[1;32m    745\u001b[0m     \"\"\"\n\u001b[1;32m    746\u001b[0m     \u001b[0;32mif\u001b[0m \u001b[0mlen\u001b[0m\u001b[0;34m(\u001b[0m\u001b[0mdata\u001b[0m\u001b[0;34m)\u001b[0m \u001b[0;34m!=\u001b[0m \u001b[0mlen\u001b[0m\u001b[0;34m(\u001b[0m\u001b[0mindex\u001b[0m\u001b[0;34m)\u001b[0m\u001b[0;34m:\u001b[0m\u001b[0;34m\u001b[0m\u001b[0;34m\u001b[0m\u001b[0m\n\u001b[0;32m--> 747\u001b[0;31m         raise ValueError(\n\u001b[0m\u001b[1;32m    748\u001b[0m             \u001b[0;34m\"Length of values \"\u001b[0m\u001b[0;34m\u001b[0m\u001b[0;34m\u001b[0m\u001b[0m\n\u001b[1;32m    749\u001b[0m             \u001b[0;34mf\"({len(data)}) \"\u001b[0m\u001b[0;34m\u001b[0m\u001b[0;34m\u001b[0m\u001b[0m\n",
      "\u001b[0;31mValueError\u001b[0m: Length of values (10) does not match length of index (4)"
     ]
    }
   ],
   "source": [
    "train_data=new_data_2[0:16]\n",
    "valid_data=new_data_2[16:]\n",
    "valid_data['Predictions']=predicted_closing_price\n",
    "plt.plot(train_data[\"close\"], label = 'actual')\n",
    "plt.plot(valid_data[['close',\"Predictions\"]])"
   ]
  },
  {
   "cell_type": "code",
   "execution_count": null,
   "metadata": {},
   "outputs": [],
   "source": []
  },
  {
   "cell_type": "code",
   "execution_count": 19,
   "metadata": {},
   "outputs": [
    {
     "output_type": "error",
     "ename": "TypeError",
     "evalue": "'ARIMAResultsWrapper' object is not callable",
     "traceback": [
      "\u001b[0;31m---------------------------------------------------------------------------\u001b[0m",
      "\u001b[0;31mTypeError\u001b[0m                                 Traceback (most recent call last)",
      "\u001b[0;32m<ipython-input-19-41c423cd6a11>\u001b[0m in \u001b[0;36m<module>\u001b[0;34m\u001b[0m\n\u001b[1;32m     20\u001b[0m \u001b[0mpath\u001b[0m \u001b[0;34m=\u001b[0m \u001b[0;34m'ARIMA_models/BTC_ARIMA.h5'\u001b[0m\u001b[0;34m\u001b[0m\u001b[0;34m\u001b[0m\u001b[0m\n\u001b[1;32m     21\u001b[0m \u001b[0;34m\u001b[0m\u001b[0m\n\u001b[0;32m---> 22\u001b[0;31m \u001b[0mmodel\u001b[0m \u001b[0;34m=\u001b[0m \u001b[0mjoblib\u001b[0m\u001b[0;34m.\u001b[0m\u001b[0mload\u001b[0m\u001b[0;34m(\u001b[0m\u001b[0mpath\u001b[0m\u001b[0;34m)\u001b[0m\u001b[0;34m(\u001b[0m\u001b[0mX_test\u001b[0m\u001b[0;34m,\u001b[0m \u001b[0morder\u001b[0m \u001b[0;34m=\u001b[0m\u001b[0;34m(\u001b[0m\u001b[0;36m1\u001b[0m\u001b[0;34m,\u001b[0m\u001b[0;36m1\u001b[0m\u001b[0;34m,\u001b[0m\u001b[0;36m1\u001b[0m\u001b[0;34m)\u001b[0m\u001b[0;34m)\u001b[0m\u001b[0;34m\u001b[0m\u001b[0;34m\u001b[0m\u001b[0m\n\u001b[0m\u001b[1;32m     23\u001b[0m \u001b[0;34m\u001b[0m\u001b[0m\n\u001b[1;32m     24\u001b[0m \u001b[0mpred_price\u001b[0m \u001b[0;34m=\u001b[0m \u001b[0mmodel\u001b[0m\u001b[0;34m.\u001b[0m\u001b[0mpredict\u001b[0m\u001b[0;34m(\u001b[0m\u001b[0mX_test\u001b[0m\u001b[0;34m)\u001b[0m\u001b[0;34m\u001b[0m\u001b[0;34m\u001b[0m\u001b[0m\n",
      "\u001b[0;31mTypeError\u001b[0m: 'ARIMAResultsWrapper' object is not callable"
     ]
    }
   ],
   "source": [
    "df_all = pd.read_csv('coin_all.csv')\n",
    "df_predict = df_all.loc[df_all['symbol']=='BTC']\n",
    "new_df = df_predict.filter(['close'])\n",
    "from sklearn.preprocessing import MinMaxScaler\n",
    "scaler = MinMaxScaler()\n",
    "#last 60 days closing price values and convert the dataframe to an array\n",
    "last_60_days = new_df[-60:].values\n",
    "# Scale he data to be values between 0 and 1\n",
    "last_60_days_scaled = scaler.fit_transform(last_60_days)\n",
    "X_test = []\n",
    "X_test.append(last_60_days_scaled)\n",
    "import numpy as np\n",
    "import joblib\n",
    "X_test = np.array(X_test)\n",
    "\n",
    "X_test = np.reshape(X_test, (X_test.shape[0], X_test.shape[1], 1))\n",
    "\n",
    "path = 'ARIMA_models/BTC_ARIMA.h5'\n",
    "\n",
    "pred_price = model.predict(X_test)\n",
    "\n",
    "pred_price = scaler.inverse_transform(pred_price)\n",
    "\n",
    "print(pred_price[0][0])"
   ]
  },
  {
   "cell_type": "code",
   "execution_count": 4,
   "metadata": {},
   "outputs": [],
   "source": [
    "df_all = pd.read_csv('coin_all.csv')\n",
    "df_predict = df_all.loc[df_all['symbol']=='BTC']\n",
    "new_df = df_predict.filter(['close'])"
   ]
  },
  {
   "cell_type": "code",
   "execution_count": 5,
   "metadata": {},
   "outputs": [
    {
     "output_type": "execute_result",
     "data": {
      "text/plain": [
       "33826.006795002875"
      ]
     },
     "metadata": {},
     "execution_count": 5
    }
   ],
   "source": [
    "path = 'ARIMA_models/BTC_ARIMA.h5'\n",
    "\n",
    "import joblib\n",
    "\n",
    "Arima = joblib.load(path)\n",
    "\n",
    "xt = Arima.forecast()\n",
    "xt[0]"
   ]
  },
  {
   "cell_type": "code",
   "execution_count": 7,
   "metadata": {},
   "outputs": [
    {
     "output_type": "execute_result",
     "data": {
      "text/plain": [
       "576"
      ]
     },
     "metadata": {},
     "execution_count": 7
    }
   ],
   "source": [
    "int(len(new_df)*0.8)"
   ]
  },
  {
   "cell_type": "code",
   "execution_count": 239,
   "metadata": {},
   "outputs": [],
   "source": [
    "new_data = pd.read_csv('coin_all.csv')\n",
    "new_data = df.loc[df['symbol']=='BTC']\n"
   ]
  },
  {
   "cell_type": "code",
   "execution_count": 240,
   "metadata": {},
   "outputs": [],
   "source": [
    "#new_data.index = new_data.time"
   ]
  },
  {
   "cell_type": "code",
   "execution_count": 241,
   "metadata": {},
   "outputs": [],
   "source": [
    "new_data = new_data.dropna()\n",
    "new_data.drop('Unnamed: 0', axis=1, inplace= True)\n",
    "\n",
    "target = new_data['close']\n",
    "inputs = new_data.drop(columns=[\"close\", \"index\", \"asset_id\", \"time\", \"symbol\"])\n",
    "import plotly.express as px\n",
    "from sklearn.preprocessing import StandardScaler\n",
    "# Create a StandardScaler instance\n",
    "scaler = StandardScaler()\n",
    "# Fit the StandardScaler\n",
    "input_scaled = scaler.fit_transform(inputs)\n",
    "#input_scaled = input_scaler.transform(inputs)\n",
    "\n",
    "\n"
   ]
  },
  {
   "cell_type": "code",
   "execution_count": 242,
   "metadata": {},
   "outputs": [
    {
     "output_type": "display_data",
     "data": {
      "application/vnd.plotly.v1+json": {
       "config": {
        "plotlyServerURL": "https://plot.ly"
       },
       "data": [
        {
         "type": "scatter",
         "y": [
          10185.93352,
          9879.576003,
          10299.172606,
          10383.239776999999,
          10234.235588,
          10423.700087000001,
          9891.055382999999,
          9926.231405,
          9777.338618000002,
          10190.986794,
          9618.049455,
          9650.994735,
          9723.327004,
          9708.662402,
          10002.646574,
          9673.326198,
          9312.711137999999,
          8808.212264,
          8797.412881999999,
          8699.83177,
          8560.030428,
          8495.216182,
          8970.267332,
          8767.081185,
          8836.091698999999,
          9052.157869,
          9298.589049,
          8885.568611,
          7987.440543000001,
          7992.625231,
          7956.397591,
          7958.423323,
          4929.866642,
          5729.924411999999,
          5224.898127,
          5381.503199,
          5065.053886,
          5372.941379,
          5441.544975,
          6245.090089,
          6204.5798780000005,
          6208.407017,
          5841.491277,
          6494.109143,
          6753.21353,
          6686.817713,
          6748.222059999999,
          6386.524282,
          6279.957738,
          5903.99,
          6426.471081000001,
          6439.621773,
          6656.749011999999,
          6823.374793000001,
          6753.457382,
          6874.080887,
          6792.2259349999995,
          7369.050762000001,
          7180.372952,
          7385.899727,
          6894.243073000001,
          6901.1028209999995,
          6923.975555,
          6862.763390000001,
          6876.897259,
          6638.414612,
          7103.752795,
          7047.602359999999,
          7283.222363,
          7146.8713370000005,
          6838.048959000001,
          6873.255394,
          7141.876372,
          7474.118704,
          7511.656746,
          7559.549037000001,
          7712.614213,
          7804.584454000001,
          7770.5632430000005,
          8762.338088,
          8644.194888,
          8823.23609,
          8999.331114,
          8921.293382,
          8896.347032,
          9024.900188,
          9133.796326,
          9972.584023000001,
          9844.867939,
          9574.09873,
          8750.250756,
          8610.172121,
          8819.975955,
          9307.611205,
          9795.162772,
          9312.189139,
          9389.096115999999,
          9691.317391,
          9743.485528,
          9791.936169,
          9518.417317,
          9074.884501,
          9212.427523999999,
          9190.292929000001,
          8744.687578000001,
          8897.416314,
          8851.121942,
          9225.621921,
          9592.895884,
          9439.452890999999,
          9720.068064000001,
          9445.900443,
          10169.903341,
          9558.941573,
          9696.030938,
          9791.958829000001,
          9653.905709999999,
          9697.686445000001,
          9779.805109,
          9804.569787,
          9784.921534000001,
          9902.019522,
          9285.787973999999,
          9500.954259999999,
          9517.164301,
          9356.661951,
          9444.406842,
          9555.767590000001,
          9481.485425,
          9415.970475,
          9335.39145,
          9380.940956999999,
          9315.543615,
          9667.694593,
          9647.806156999999,
          9332.338964,
          9268.483226,
          9186.84215,
          9021.202097,
          9153.713944,
          9225.854274,
          9180.271429999999,
          9268.438945,
          9117.089234000001,
          9101.256985,
          9191.497454,
          9143.547771,
          9373.516181,
          9304.003934,
          9455.722224,
          9274.473312,
          9314.873635,
          9279.473309,
          9350.512147,
          9260.6925,
          9279.13021,
          9227.602711,
          9167.295783,
          9193.326531,
          9228.740287,
          9275.980236,
          9200.949666,
          9419.234892,
          9623.199383,
          9638.348054,
          9556.257472,
          9830.565607999999,
          9941.739770999999,
          10960.587012,
          10949.093322,
          11096.016287999999,
          11192.232891,
          11389.89776,
          11509.649663,
          11090.129444,
          11223.917687000001,
          11192.262046,
          11749.037769,
          11761.929851,
          11598.619083,
          11825.166997,
          11679.3224,
          11896.320918000001,
          11402.978093000002,
          11508.222982,
          11865.878346,
          11755.659382,
          11830.508451,
          11919.736899,
          12253.955575,
          11946.878179000001,
          11771.026339,
          11866.492439,
          11486.192441,
          11695.149822,
          11639.643368000001,
          11791.818614,
          11334.778876999999,
          11440.007809,
          11328.019036,
          11513.492679,
          11453.589303,
          11796.284111,
          11692.094281,
          11916.726854999999,
          11438.38532,
          10198.342187,
          10472.562014,
          10154.050463,
          10287.356770999999,
          10384.422246,
          10135.602566,
          10233.788987,
          10355.684754,
          10396.120599,
          10469.559447,
          10343.12667,
          10669.072766,
          10789.645035,
          10949.036655,
          10953.229522,
          10950.579163,
          11094.780981,
          10920.350193,
          10432.9013,
          10549.229337,
          10225.179966,
          10732.257976,
          10708.003249,
          10739.326641,
          10780.429878,
          10682.710185,
          10840.865754,
          10789.006168,
          10617.890312000001,
          10584.873914,
          10553.924786,
          10688.916584999999,
          10788.310785,
          10609.816555,
          10675.546412,
          10933.910351999999,
          11060.652042,
          11298.801045999999,
          11383.494357,
          11549.396643,
          11447.395108,
          11429.890236,
          11511.456669,
          11322.134876,
          11371.03976,
          11525.249355,
          11747.623814,
          11906.723009000001,
          12788.065720999999,
          12979.952483,
          12916.170049,
          13110.060064,
          13027.357528,
          13065.747609999999,
          13651.660763999998,
          13288.789456999999,
          13462.499380000001,
          13578.452709000001,
          13796.594307,
          13823.171741999999,
          13557.082043,
          13992.987799,
          14210.897112,
          15516.747206,
          15642.340581,
          14843.510875999998,
          15464.262116,
          15351.142113999998,
          15336.218368,
          15724.802451,
          16285.182626,
          16330.095809,
          16081.263469999998,
          15948.282981,
          16681.218303,
          17669.369095,
          17818.623437000002,
          17835.262839,
          18693.123217,
          18763.704715,
          18495.156349,
          18477.862727,
          19130.312469,
          18779.273735,
          17196.948991999998,
          17165.403663999998,
          17731.645489,
          18233.310059,
          19694.186165,
          18765.135009,
          19208.006561000002,
          19435.782772,
          18641.691616,
          19186.583736,
          19390.023191999997,
          19181.436483,
          18319.655675,
          18572.086275999998,
          18233.201281,
          18020.031101,
          18832.439543,
          19196.456675999998,
          19242.406397,
          19444.606848,
          21317.449682,
          22755.607207,
          23139.006227,
          35568.077937,
          34398.721283,
          37194.772938,
          39182.013032,
          36849.06072,
          35987.232372000006,
          35829.452357,
          36611.701224000004,
          35958.035402999994,
          35625.553286,
          30943.135126999998,
          32903.310157,
          32108.65376,
          32314.169944,
          32283.419542000003,
          32531.384043000002,
          30459.907626,
          33271.735914,
          34293.24544,
          34192.108961,
          34124.061737
         ]
        },
        {
         "type": "scatter",
         "y": [
          8156.432152296869,
          8186.512093367182,
          8396.13052560937,
          9533.147055742185,
          8614.479487484374,
          8975.388550148438,
          7958.064179539062,
          7845.697258789061,
          8396.107670835934,
          8385.677332640622,
          7620.329514835938,
          7492.7465898984365,
          7907.076411460936,
          7579.477144375,
          8187.3191109531235,
          7837.837857031247,
          7303.410833585935,
          7162.02181875781,
          6503.589886664061,
          6210.111300726558,
          6386.771837804682,
          6376.164760757808,
          6642.907732406247,
          6542.277668437497,
          6493.000754914062,
          7194.889199937498,
          7524.564709367186,
          7243.2432627656235,
          5916.405330453126,
          5724.140983765628,
          5660.807801625002,
          5536.1948618515635,
          4467.6849941875,
          3743.661641843753,
          3748.4828904218775,
          3732.917764601565,
          3726.169976390627,
          3711.8064898359385,
          3733.7398050859383,
          3732.7847446875007,
          4614.757441453128,
          4473.437382343749,
          4460.897656812501,
          4549.502573898437,
          4633.474092156252,
          4679.747454953125,
          4713.11212411719,
          4644.500977382814,
          4574.230219460938,
          4470.474054718751,
          4572.308419632812,
          4638.537332296875,
          4565.2786355624985,
          4721.303450273439,
          4730.277983664063,
          4717.329650812501,
          4727.241386046878,
          5317.573516804684,
          5295.567096874996,
          5314.10793360156,
          4848.022882609377,
          4737.587272562502,
          4743.06762574219,
          4749.6586064765615,
          4736.787928687501,
          4719.755501367188,
          5181.7263046796825,
          5270.717829906246,
          5346.359624999997,
          5277.483082624997,
          5074.0159669999975,
          4726.301178851563,
          4924.039825835938,
          5292.871466070307,
          5355.86026485937,
          5347.955391351563,
          5399.280910187499,
          5448.658350773434,
          5454.316759890624,
          5754.4050225468745,
          6418.748047390625,
          6384.023147148439,
          6658.152358304688,
          7104.599542898437,
          6357.506835421879,
          6673.567566039066,
          7161.550889093755,
          7325.341904632812,
          8092.9461506484295,
          7964.113814249996,
          6631.780461765621,
          6918.280333117188,
          6325.207948507813,
          7212.53466702344,
          7333.705945695315,
          7521.333343148436,
          7415.547390132816,
          7441.349427078124,
          7927.322050374995,
          7849.753749109371,
          7621.220415421872,
          7350.21026590625,
          7251.976214999999,
          7256.518294953123,
          7175.083306749998,
          6390.69216702344,
          6413.152805710942,
          7210.547962062502,
          7397.955544624998,
          7475.248504210939,
          8149.742060164058,
          7447.097785210936,
          7836.66901435937,
          8246.185263007803,
          7601.608078382813,
          7559.626025820313,
          7826.193602429688,
          7556.662894835937,
          7795.188302906248,
          7940.656726187496,
          7916.313650218747,
          7947.549809695309,
          7574.882937367186,
          7469.411133609374,
          7438.4550670546905,
          7264.566561242189,
          7248.2377854609385,
          7446.998544085936,
          7494.556365828127,
          7431.260830414062,
          7290.292901890627,
          7277.320605085939,
          7307.8590291015635,
          7498.719681023437,
          7565.071368835938,
          7458.094339140626,
          7284.531652242187,
          7258.284922429686,
          7191.752926562502,
          7165.1667087031265,
          7250.266335703127,
          7260.430187281252,
          7300.193916437499,
          7283.044381765624,
          7211.324926429689,
          7276.484339195313,
          7225.608847984379,
          7383.530949929687,
          7290.282450296877,
          7466.362203390626,
          7318.879852250004,
          7282.188314890625,
          7302.483573812499,
          7330.870925070312,
          7285.907433624999,
          7309.5989631953125,
          7307.958636859373,
          7224.303704703123,
          7252.539777499997,
          7296.079119757813,
          7302.5009181875,
          7283.991603625001,
          7332.448819796875,
          7945.528869632809,
          7950.207161937495,
          7845.143502812497,
          8385.211975429685,
          8068.685287890616,
          8251.44423331249,
          9382.806045242187,
          9441.01374571094,
          9867.060121414057,
          9829.243040046877,
          10280.564398804689,
          10054.780199234378,
          9848.683126484373,
          9798.85838623437,
          9795.429228351559,
          9966.931860773433,
          9862.865889210927,
          10285.489432007815,
          10030.089354531245,
          10111.026537890624,
          9981.063698492182,
          9934.672765031246,
          10308.960343921877,
          10325.054116812495,
          10058.580549812494,
          10220.144129664068,
          10191.39425511719,
          10342.010160898435,
          10102.964787742187,
          10221.051705218752,
          9807.466511515622,
          10043.265351546872,
          10007.181752734376,
          10302.18619411719,
          9852.86549750781,
          9867.456315960935,
          9853.030913062496,
          9958.507985125001,
          10080.192343726561,
          10369.679831507812,
          10256.653350320314,
          10450.40243734375,
          9835.658131585938,
          8952.439722304687,
          8415.833022664065,
          7564.982270132812,
          8852.198812054692,
          8425.424469976564,
          8244.014509218741,
          8595.357578124998,
          8917.298231625,
          8740.694433976567,
          8977.228843437502,
          8204.458799492182,
          8862.226251125003,
          8598.189161414059,
          9132.86899616406,
          10009.049546507811,
          9281.899483898434,
          9382.614511007805,
          8976.06678284375,
          8466.406886507812,
          8829.837998874998,
          8406.466163593743,
          9184.38736066406,
          9180.583651390623,
          8976.339077906252,
          9097.201598859374,
          8957.363128234378,
          9102.986226742187,
          9251.307664687498,
          8930.157193531246,
          8733.312059171874,
          8880.359519273443,
          8936.126564656252,
          8935.617440148437,
          8850.161145132814,
          8908.112377453128,
          9186.436083882807,
          9627.53111317968,
          9556.047081445307,
          9853.862147523434,
          9964.779539546877,
          9787.520693937502,
          9778.08182864844,
          9832.479853195307,
          9741.617950124997,
          9871.819544835935,
          10000.53415298437,
          9936.161781796869,
          9873.786606632808,
          10254.16875821875,
          11091.783312906258,
          11029.664055187506,
          11103.202977210944,
          11099.291049773443,
          10842.061701664063,
          11110.090676281257,
          11167.330427968758,
          11106.285988000007,
          11114.559150281262,
          11309.569193562507,
          11317.55484174219,
          11240.100200195318,
          11278.724569148446,
          11402.896174289068,
          12067.307125148434,
          13332.351401726568,
          13080.178877765627,
          12798.339042367192,
          13078.481652648441,
          12853.35070267969,
          13127.742598734383,
          13471.190671609374,
          14256.304783429689,
          13550.901125179686,
          13514.299931273434,
          14040.0160941875,
          14689.063771414056,
          14961.909585984386,
          14804.887591507826,
          15794.9420754922,
          16587.93428914063,
          16282.941385109378,
          16691.897246632827,
          15832.483851609391,
          16466.469765296886,
          14805.654589085945,
          14517.942392460944,
          14558.281889664067,
          14748.747471359384,
          16357.939023960937,
          16626.883497828123,
          16553.887879890633,
          16648.122166546884,
          16588.31193481251,
          16541.87996786719,
          16602.25655282032,
          16608.396151718753,
          16341.573292312503,
          15643.028083062512,
          15543.832775351571,
          14796.858388421882,
          15411.00366865626,
          16540.898769625004,
          16584.808292968755,
          16597.70919392969,
          16618.237276921867,
          18771.84529869532,
          21315.46617722658,
          33909.68766404688,
          33189.58705314846,
          33311.994287039066,
          35544.18709810938,
          35897.25990102343,
          34311.12972425783,
          32960.78720521877,
          32898.59202769533,
          35174.38294288283,
          33046.70671988284,
          32997.65647185157,
          31665.829223210938,
          32407.94797795314,
          32686.066062812522,
          29978.926951546862,
          32384.64232217189,
          29871.302452296874,
          29314.134092296867,
          33014.96041653125,
          33077.011132093765,
          32950.347349203126
         ]
        }
       ],
       "layout": {
        "template": {
         "data": {
          "bar": [
           {
            "error_x": {
             "color": "#2a3f5f"
            },
            "error_y": {
             "color": "#2a3f5f"
            },
            "marker": {
             "line": {
              "color": "#E5ECF6",
              "width": 0.5
             }
            },
            "type": "bar"
           }
          ],
          "barpolar": [
           {
            "marker": {
             "line": {
              "color": "#E5ECF6",
              "width": 0.5
             }
            },
            "type": "barpolar"
           }
          ],
          "carpet": [
           {
            "aaxis": {
             "endlinecolor": "#2a3f5f",
             "gridcolor": "white",
             "linecolor": "white",
             "minorgridcolor": "white",
             "startlinecolor": "#2a3f5f"
            },
            "baxis": {
             "endlinecolor": "#2a3f5f",
             "gridcolor": "white",
             "linecolor": "white",
             "minorgridcolor": "white",
             "startlinecolor": "#2a3f5f"
            },
            "type": "carpet"
           }
          ],
          "choropleth": [
           {
            "colorbar": {
             "outlinewidth": 0,
             "ticks": ""
            },
            "type": "choropleth"
           }
          ],
          "contour": [
           {
            "colorbar": {
             "outlinewidth": 0,
             "ticks": ""
            },
            "colorscale": [
             [
              0,
              "#0d0887"
             ],
             [
              0.1111111111111111,
              "#46039f"
             ],
             [
              0.2222222222222222,
              "#7201a8"
             ],
             [
              0.3333333333333333,
              "#9c179e"
             ],
             [
              0.4444444444444444,
              "#bd3786"
             ],
             [
              0.5555555555555556,
              "#d8576b"
             ],
             [
              0.6666666666666666,
              "#ed7953"
             ],
             [
              0.7777777777777778,
              "#fb9f3a"
             ],
             [
              0.8888888888888888,
              "#fdca26"
             ],
             [
              1,
              "#f0f921"
             ]
            ],
            "type": "contour"
           }
          ],
          "contourcarpet": [
           {
            "colorbar": {
             "outlinewidth": 0,
             "ticks": ""
            },
            "type": "contourcarpet"
           }
          ],
          "heatmap": [
           {
            "colorbar": {
             "outlinewidth": 0,
             "ticks": ""
            },
            "colorscale": [
             [
              0,
              "#0d0887"
             ],
             [
              0.1111111111111111,
              "#46039f"
             ],
             [
              0.2222222222222222,
              "#7201a8"
             ],
             [
              0.3333333333333333,
              "#9c179e"
             ],
             [
              0.4444444444444444,
              "#bd3786"
             ],
             [
              0.5555555555555556,
              "#d8576b"
             ],
             [
              0.6666666666666666,
              "#ed7953"
             ],
             [
              0.7777777777777778,
              "#fb9f3a"
             ],
             [
              0.8888888888888888,
              "#fdca26"
             ],
             [
              1,
              "#f0f921"
             ]
            ],
            "type": "heatmap"
           }
          ],
          "heatmapgl": [
           {
            "colorbar": {
             "outlinewidth": 0,
             "ticks": ""
            },
            "colorscale": [
             [
              0,
              "#0d0887"
             ],
             [
              0.1111111111111111,
              "#46039f"
             ],
             [
              0.2222222222222222,
              "#7201a8"
             ],
             [
              0.3333333333333333,
              "#9c179e"
             ],
             [
              0.4444444444444444,
              "#bd3786"
             ],
             [
              0.5555555555555556,
              "#d8576b"
             ],
             [
              0.6666666666666666,
              "#ed7953"
             ],
             [
              0.7777777777777778,
              "#fb9f3a"
             ],
             [
              0.8888888888888888,
              "#fdca26"
             ],
             [
              1,
              "#f0f921"
             ]
            ],
            "type": "heatmapgl"
           }
          ],
          "histogram": [
           {
            "marker": {
             "colorbar": {
              "outlinewidth": 0,
              "ticks": ""
             }
            },
            "type": "histogram"
           }
          ],
          "histogram2d": [
           {
            "colorbar": {
             "outlinewidth": 0,
             "ticks": ""
            },
            "colorscale": [
             [
              0,
              "#0d0887"
             ],
             [
              0.1111111111111111,
              "#46039f"
             ],
             [
              0.2222222222222222,
              "#7201a8"
             ],
             [
              0.3333333333333333,
              "#9c179e"
             ],
             [
              0.4444444444444444,
              "#bd3786"
             ],
             [
              0.5555555555555556,
              "#d8576b"
             ],
             [
              0.6666666666666666,
              "#ed7953"
             ],
             [
              0.7777777777777778,
              "#fb9f3a"
             ],
             [
              0.8888888888888888,
              "#fdca26"
             ],
             [
              1,
              "#f0f921"
             ]
            ],
            "type": "histogram2d"
           }
          ],
          "histogram2dcontour": [
           {
            "colorbar": {
             "outlinewidth": 0,
             "ticks": ""
            },
            "colorscale": [
             [
              0,
              "#0d0887"
             ],
             [
              0.1111111111111111,
              "#46039f"
             ],
             [
              0.2222222222222222,
              "#7201a8"
             ],
             [
              0.3333333333333333,
              "#9c179e"
             ],
             [
              0.4444444444444444,
              "#bd3786"
             ],
             [
              0.5555555555555556,
              "#d8576b"
             ],
             [
              0.6666666666666666,
              "#ed7953"
             ],
             [
              0.7777777777777778,
              "#fb9f3a"
             ],
             [
              0.8888888888888888,
              "#fdca26"
             ],
             [
              1,
              "#f0f921"
             ]
            ],
            "type": "histogram2dcontour"
           }
          ],
          "mesh3d": [
           {
            "colorbar": {
             "outlinewidth": 0,
             "ticks": ""
            },
            "type": "mesh3d"
           }
          ],
          "parcoords": [
           {
            "line": {
             "colorbar": {
              "outlinewidth": 0,
              "ticks": ""
             }
            },
            "type": "parcoords"
           }
          ],
          "pie": [
           {
            "automargin": true,
            "type": "pie"
           }
          ],
          "scatter": [
           {
            "marker": {
             "colorbar": {
              "outlinewidth": 0,
              "ticks": ""
             }
            },
            "type": "scatter"
           }
          ],
          "scatter3d": [
           {
            "line": {
             "colorbar": {
              "outlinewidth": 0,
              "ticks": ""
             }
            },
            "marker": {
             "colorbar": {
              "outlinewidth": 0,
              "ticks": ""
             }
            },
            "type": "scatter3d"
           }
          ],
          "scattercarpet": [
           {
            "marker": {
             "colorbar": {
              "outlinewidth": 0,
              "ticks": ""
             }
            },
            "type": "scattercarpet"
           }
          ],
          "scattergeo": [
           {
            "marker": {
             "colorbar": {
              "outlinewidth": 0,
              "ticks": ""
             }
            },
            "type": "scattergeo"
           }
          ],
          "scattergl": [
           {
            "marker": {
             "colorbar": {
              "outlinewidth": 0,
              "ticks": ""
             }
            },
            "type": "scattergl"
           }
          ],
          "scattermapbox": [
           {
            "marker": {
             "colorbar": {
              "outlinewidth": 0,
              "ticks": ""
             }
            },
            "type": "scattermapbox"
           }
          ],
          "scatterpolar": [
           {
            "marker": {
             "colorbar": {
              "outlinewidth": 0,
              "ticks": ""
             }
            },
            "type": "scatterpolar"
           }
          ],
          "scatterpolargl": [
           {
            "marker": {
             "colorbar": {
              "outlinewidth": 0,
              "ticks": ""
             }
            },
            "type": "scatterpolargl"
           }
          ],
          "scatterternary": [
           {
            "marker": {
             "colorbar": {
              "outlinewidth": 0,
              "ticks": ""
             }
            },
            "type": "scatterternary"
           }
          ],
          "surface": [
           {
            "colorbar": {
             "outlinewidth": 0,
             "ticks": ""
            },
            "colorscale": [
             [
              0,
              "#0d0887"
             ],
             [
              0.1111111111111111,
              "#46039f"
             ],
             [
              0.2222222222222222,
              "#7201a8"
             ],
             [
              0.3333333333333333,
              "#9c179e"
             ],
             [
              0.4444444444444444,
              "#bd3786"
             ],
             [
              0.5555555555555556,
              "#d8576b"
             ],
             [
              0.6666666666666666,
              "#ed7953"
             ],
             [
              0.7777777777777778,
              "#fb9f3a"
             ],
             [
              0.8888888888888888,
              "#fdca26"
             ],
             [
              1,
              "#f0f921"
             ]
            ],
            "type": "surface"
           }
          ],
          "table": [
           {
            "cells": {
             "fill": {
              "color": "#EBF0F8"
             },
             "line": {
              "color": "white"
             }
            },
            "header": {
             "fill": {
              "color": "#C8D4E3"
             },
             "line": {
              "color": "white"
             }
            },
            "type": "table"
           }
          ]
         },
         "layout": {
          "annotationdefaults": {
           "arrowcolor": "#2a3f5f",
           "arrowhead": 0,
           "arrowwidth": 1
          },
          "autotypenumbers": "strict",
          "coloraxis": {
           "colorbar": {
            "outlinewidth": 0,
            "ticks": ""
           }
          },
          "colorscale": {
           "diverging": [
            [
             0,
             "#8e0152"
            ],
            [
             0.1,
             "#c51b7d"
            ],
            [
             0.2,
             "#de77ae"
            ],
            [
             0.3,
             "#f1b6da"
            ],
            [
             0.4,
             "#fde0ef"
            ],
            [
             0.5,
             "#f7f7f7"
            ],
            [
             0.6,
             "#e6f5d0"
            ],
            [
             0.7,
             "#b8e186"
            ],
            [
             0.8,
             "#7fbc41"
            ],
            [
             0.9,
             "#4d9221"
            ],
            [
             1,
             "#276419"
            ]
           ],
           "sequential": [
            [
             0,
             "#0d0887"
            ],
            [
             0.1111111111111111,
             "#46039f"
            ],
            [
             0.2222222222222222,
             "#7201a8"
            ],
            [
             0.3333333333333333,
             "#9c179e"
            ],
            [
             0.4444444444444444,
             "#bd3786"
            ],
            [
             0.5555555555555556,
             "#d8576b"
            ],
            [
             0.6666666666666666,
             "#ed7953"
            ],
            [
             0.7777777777777778,
             "#fb9f3a"
            ],
            [
             0.8888888888888888,
             "#fdca26"
            ],
            [
             1,
             "#f0f921"
            ]
           ],
           "sequentialminus": [
            [
             0,
             "#0d0887"
            ],
            [
             0.1111111111111111,
             "#46039f"
            ],
            [
             0.2222222222222222,
             "#7201a8"
            ],
            [
             0.3333333333333333,
             "#9c179e"
            ],
            [
             0.4444444444444444,
             "#bd3786"
            ],
            [
             0.5555555555555556,
             "#d8576b"
            ],
            [
             0.6666666666666666,
             "#ed7953"
            ],
            [
             0.7777777777777778,
             "#fb9f3a"
            ],
            [
             0.8888888888888888,
             "#fdca26"
            ],
            [
             1,
             "#f0f921"
            ]
           ]
          },
          "colorway": [
           "#636efa",
           "#EF553B",
           "#00cc96",
           "#ab63fa",
           "#FFA15A",
           "#19d3f3",
           "#FF6692",
           "#B6E880",
           "#FF97FF",
           "#FECB52"
          ],
          "font": {
           "color": "#2a3f5f"
          },
          "geo": {
           "bgcolor": "white",
           "lakecolor": "white",
           "landcolor": "#E5ECF6",
           "showlakes": true,
           "showland": true,
           "subunitcolor": "white"
          },
          "hoverlabel": {
           "align": "left"
          },
          "hovermode": "closest",
          "mapbox": {
           "style": "light"
          },
          "paper_bgcolor": "white",
          "plot_bgcolor": "#E5ECF6",
          "polar": {
           "angularaxis": {
            "gridcolor": "white",
            "linecolor": "white",
            "ticks": ""
           },
           "bgcolor": "#E5ECF6",
           "radialaxis": {
            "gridcolor": "white",
            "linecolor": "white",
            "ticks": ""
           }
          },
          "scene": {
           "xaxis": {
            "backgroundcolor": "#E5ECF6",
            "gridcolor": "white",
            "gridwidth": 2,
            "linecolor": "white",
            "showbackground": true,
            "ticks": "",
            "zerolinecolor": "white"
           },
           "yaxis": {
            "backgroundcolor": "#E5ECF6",
            "gridcolor": "white",
            "gridwidth": 2,
            "linecolor": "white",
            "showbackground": true,
            "ticks": "",
            "zerolinecolor": "white"
           },
           "zaxis": {
            "backgroundcolor": "#E5ECF6",
            "gridcolor": "white",
            "gridwidth": 2,
            "linecolor": "white",
            "showbackground": true,
            "ticks": "",
            "zerolinecolor": "white"
           }
          },
          "shapedefaults": {
           "line": {
            "color": "#2a3f5f"
           }
          },
          "ternary": {
           "aaxis": {
            "gridcolor": "white",
            "linecolor": "white",
            "ticks": ""
           },
           "baxis": {
            "gridcolor": "white",
            "linecolor": "white",
            "ticks": ""
           },
           "bgcolor": "#E5ECF6",
           "caxis": {
            "gridcolor": "white",
            "linecolor": "white",
            "ticks": ""
           }
          },
          "title": {
           "x": 0.05
          },
          "xaxis": {
           "automargin": true,
           "gridcolor": "white",
           "linecolor": "white",
           "ticks": "",
           "title": {
            "standoff": 15
           },
           "zerolinecolor": "white",
           "zerolinewidth": 2
          },
          "yaxis": {
           "automargin": true,
           "gridcolor": "white",
           "linecolor": "white",
           "ticks": "",
           "title": {
            "standoff": 15
           },
           "zerolinecolor": "white",
           "zerolinewidth": 2
          }
         }
        }
       }
      }
     },
     "metadata": {}
    }
   ],
   "source": [
    "load_model = joblib.load('DF_models/BTC_RF.HDF5')\n",
    "y_pred = load_model.predict(input_scaled)\n",
    "prices_df =pd.DataFrame(list(zip(y_pred,target)), columns=['Predicted', 'Actual'])\n",
    "\n",
    "\n",
    "import plotly.graph_objects as go\n",
    "import plotly.graph_objects as go\n",
    "\n",
    "fig = go.Figure()\n",
    "fig.add_trace(\n",
    "    go.Scatter(\n",
    "        y=prices_df['Actual']\n",
    "    ))\n",
    "\n",
    "fig.add_trace(\n",
    "    go.Scatter(\n",
    "        y=prices_df['Predicted']\n",
    "    ))\n",
    "\n",
    "\n",
    "fig.show()"
   ]
  },
  {
   "cell_type": "code",
   "execution_count": 258,
   "metadata": {},
   "outputs": [],
   "source": [
    "selected_ticket = 'BTC'\n",
    "from plotly.subplots import make_subplots\n",
    "path_a = 'ARIMA_models/'+selected_ticket+'_ARIMA.h5'\n",
    "model_a = joblib.load(path_a)\n",
    "coin_df = df_all.loc[(df_all['symbol']=='BTC')]\n",
    "coin_df = coin_df[['time', 'close']].copy()\n",
    "coin_df.index=coin_df['time']\n",
    "df_close = coin_df['close']\n",
    "df_log = np.log(df_close)"
   ]
  },
  {
   "cell_type": "code",
   "execution_count": 259,
   "metadata": {},
   "outputs": [],
   "source": [
    "fc = model_a.forecast(72, alpha=0.05)\n",
    "train_data, test_data = df_log[3:int(len(df_log)*0.9)], df_log[int(len(df_log)*0.9):]"
   ]
  },
  {
   "cell_type": "code",
   "execution_count": 260,
   "metadata": {},
   "outputs": [
    {
     "output_type": "display_data",
     "data": {
      "application/vnd.plotly.v1+json": {
       "config": {
        "plotlyServerURL": "https://plot.ly"
       },
       "data": [
        {
         "name": "Actual Price",
         "type": "scatter",
         "x": [
          "2020-11-21",
          "2020-11-22",
          "2020-11-23",
          "2020-11-24",
          "2020-11-25",
          "2020-11-26",
          "2020-11-27",
          "2020-11-28",
          "2020-11-29",
          "2020-11-30",
          "2020-12-01",
          "2020-12-02",
          "2020-12-03",
          "2020-12-04",
          "2020-12-05",
          "2020-12-06",
          "2020-12-07",
          "2020-12-08",
          "2020-12-09",
          "2020-12-10",
          "2020-12-11",
          "2020-12-12",
          "2020-12-13",
          "2020-12-14",
          "2020-12-15",
          "2020-12-16",
          "2020-12-17",
          "2020-12-18",
          "2020-12-19",
          "2020-12-20",
          "2020-12-21",
          "2020-12-22",
          "2020-12-23",
          "2020-12-24",
          "2020-12-25",
          "2020-12-26",
          "2020-12-27",
          "2020-12-28",
          "2020-12-29",
          "2020-12-30",
          "2020-12-31",
          "2021-01-01",
          "2021-01-02",
          "2021-01-03",
          "2021-01-04",
          "2021-01-05",
          "2021-01-06",
          "2021-01-07",
          "2021-01-08",
          "2021-01-09",
          "2021-01-10",
          "2021-01-11",
          "2021-01-12",
          "2021-01-13",
          "2021-01-14",
          "2021-01-15",
          "2021-01-16",
          "2021-01-17",
          "2021-01-18",
          "2021-01-19",
          "2021-01-20",
          "2021-01-21",
          "2021-01-22",
          "2021-01-23",
          "2021-01-24",
          "2021-01-25",
          "2021-01-26",
          "2021-01-27",
          "2021-01-28",
          "2021-01-29",
          "2021-01-30",
          "2021-01-31"
         ],
         "xaxis": "x",
         "y": [
          9.839679682541322,
          9.825264157812873,
          9.824328685206451,
          9.859029396278945,
          9.840509079756742,
          9.752487262881063,
          9.750651222306221,
          9.78310620294007,
          9.811005423269485,
          9.88807875264212,
          9.83975590626746,
          9.863082479477457,
          9.874871118883792,
          9.833155836053205,
          9.861966550016696,
          9.872513944316436,
          9.861698240471323,
          9.815729843018742,
          9.829414994616853,
          9.810999457357418,
          9.799239257076488,
          9.843336169446456,
          9.862480992859773,
          9.864871789007918,
          9.875325027717409,
          9.967281250205303,
          10.032566864647562,
          10.049275053714826,
          10.078194927002,
          10.064491377883053,
          10.032500613155113,
          10.080758902224346,
          10.053080567641866,
          10.076154120232578,
          10.114269237619304,
          10.181612474884684,
          10.177617498843086,
          10.206646368501165,
          10.217286875117217,
          10.270417782497741,
          10.275209308764708,
          10.288293518189707,
          10.377893652047717,
          10.407769949225647,
          10.37495983272341,
          10.433190302748597,
          10.509818678002608,
          10.586632058126977,
          10.618524115573978,
          10.607542391629192,
          10.554893140432318,
          10.479203827412778,
          10.445774670664779,
          10.523923517969088,
          10.575973069249628,
          10.514585408011756,
          10.490919498199483,
          10.486525525699912,
          10.508123173868292,
          10.490107854251082,
          10.480818448285437,
          10.339906448243758,
          10.40132854436712,
          10.376880860324857,
          10.38326111096759,
          10.382309050540337,
          10.38996056522693,
          10.324166593811594,
          10.412463544206828,
          10.44270368781405,
          10.43975016429344,
          10.437758037222823
         ],
         "yaxis": "y"
        },
        {
         "name": "Training",
         "type": "scatter",
         "x": [
          "2019-02-13",
          "2019-02-14",
          "2019-02-15",
          "2019-02-16",
          "2019-02-17",
          "2019-02-18",
          "2019-02-19",
          "2019-02-20",
          "2019-02-21",
          "2019-02-22",
          "2019-02-23",
          "2019-02-24",
          "2019-02-25",
          "2019-02-26",
          "2019-02-27",
          "2019-02-28",
          "2019-03-01",
          "2019-03-02",
          "2019-03-03",
          "2019-03-04",
          "2019-03-05",
          "2019-03-06",
          "2019-03-07",
          "2019-03-08",
          "2019-03-09",
          "2019-03-10",
          "2019-03-11",
          "2019-03-12",
          "2019-03-13",
          "2019-03-14",
          "2019-03-15",
          "2019-03-16",
          "2019-03-17",
          "2019-03-18",
          "2019-03-19",
          "2019-03-20",
          "2019-03-21",
          "2019-03-22",
          "2019-03-23",
          "2019-03-24",
          "2019-03-25",
          "2019-03-26",
          "2019-03-29",
          "2019-03-30",
          "2019-03-31",
          "2019-04-01",
          "2019-04-02",
          "2019-04-03",
          "2019-04-04",
          "2019-04-05",
          "2019-04-06",
          "2019-04-07",
          "2019-04-08",
          "2019-04-09",
          "2019-04-10",
          "2019-04-11",
          "2019-04-12",
          "2019-04-13",
          "2019-04-14",
          "2019-04-15",
          "2019-04-16",
          "2019-04-17",
          "2019-04-18",
          "2019-04-19",
          "2019-04-20",
          "2019-04-21",
          "2019-04-22",
          "2019-04-23",
          "2019-04-24",
          "2019-04-25",
          "2019-04-26",
          "2019-04-27",
          "2019-04-28",
          "2019-04-29",
          "2019-04-30",
          "2019-05-01",
          "2019-05-02",
          "2019-05-03",
          "2019-05-04",
          "2019-05-05",
          "2019-05-06",
          "2019-05-07",
          "2019-05-08",
          "2019-05-09",
          "2019-05-10",
          "2019-05-11",
          "2019-05-12",
          "2019-05-13",
          "2019-05-14",
          "2019-05-15",
          "2019-05-16",
          "2019-05-17",
          "2019-05-18",
          "2019-05-19",
          "2019-05-20",
          "2019-05-21",
          "2019-05-22",
          "2019-05-23",
          "2019-05-24",
          "2019-05-25",
          "2019-05-26",
          "2019-05-27",
          "2019-05-28",
          "2019-05-29",
          "2019-05-30",
          "2019-05-31",
          "2019-06-01",
          "2019-06-02",
          "2019-06-03",
          "2019-06-04",
          "2019-06-05",
          "2019-06-06",
          "2019-06-07",
          "2019-06-08",
          "2019-06-09",
          "2019-06-10",
          "2019-06-11",
          "2019-06-12",
          "2019-06-13",
          "2019-06-14",
          "2019-06-15",
          "2019-06-16",
          "2019-06-17",
          "2019-06-18",
          "2019-06-19",
          "2019-06-20",
          "2019-06-21",
          "2019-06-22",
          "2019-06-23",
          "2019-06-24",
          "2019-06-25",
          "2019-06-26",
          "2019-06-27",
          "2019-06-28",
          "2019-06-29",
          "2019-06-30",
          "2019-07-01",
          "2019-07-02",
          "2019-07-03",
          "2019-07-04",
          "2019-07-05",
          "2019-07-06",
          "2019-07-07",
          "2019-07-08",
          "2019-07-09",
          "2019-07-10",
          "2019-07-11",
          "2019-07-12",
          "2019-07-13",
          "2019-07-14",
          "2019-07-15",
          "2019-07-16",
          "2019-07-17",
          "2019-07-18",
          "2019-07-19",
          "2019-07-20",
          "2019-07-21",
          "2019-07-22",
          "2019-07-23",
          "2019-07-24",
          "2019-07-25",
          "2019-07-26",
          "2019-07-27",
          "2019-07-28",
          "2019-07-29",
          "2019-07-30",
          "2019-07-31",
          "2019-08-01",
          "2019-08-02",
          "2019-08-03",
          "2019-08-04",
          "2019-08-05",
          "2019-08-06",
          "2019-08-07",
          "2019-08-08",
          "2019-08-09",
          "2019-08-10",
          "2019-08-11",
          "2019-08-12",
          "2019-08-13",
          "2019-08-14",
          "2019-08-15",
          "2019-08-16",
          "2019-08-17",
          "2019-08-18",
          "2019-08-19",
          "2019-08-20",
          "2019-08-21",
          "2019-08-22",
          "2019-08-23",
          "2019-08-24",
          "2019-08-25",
          "2019-08-26",
          "2019-08-27",
          "2019-08-28",
          "2019-08-29",
          "2019-08-30",
          "2019-08-31",
          "2019-09-01",
          "2019-09-02",
          "2019-09-03",
          "2019-09-04",
          "2019-09-05",
          "2019-09-06",
          "2019-09-07",
          "2019-09-08",
          "2019-09-09",
          "2019-09-10",
          "2019-09-11",
          "2019-09-12",
          "2019-09-13",
          "2019-09-14",
          "2019-09-15",
          "2019-09-16",
          "2019-09-17",
          "2019-09-18",
          "2019-09-19",
          "2019-09-20",
          "2019-09-21",
          "2019-09-22",
          "2019-09-23",
          "2019-09-24",
          "2019-09-25",
          "2019-09-26",
          "2019-09-27",
          "2019-09-28",
          "2019-09-29",
          "2019-09-30",
          "2019-10-01",
          "2019-10-02",
          "2019-10-03",
          "2019-10-04",
          "2019-10-05",
          "2019-10-06",
          "2019-10-07",
          "2019-10-08",
          "2019-10-09",
          "2019-10-10",
          "2019-10-11",
          "2019-10-12",
          "2019-10-13",
          "2019-10-14",
          "2019-10-15",
          "2019-10-16",
          "2019-10-17",
          "2019-10-18",
          "2019-10-19",
          "2019-10-20",
          "2019-10-21",
          "2019-10-22",
          "2019-10-23",
          "2019-10-24",
          "2019-10-25",
          "2019-10-26",
          "2019-10-27",
          "2019-10-28",
          "2019-10-29",
          "2019-10-30",
          "2019-10-31",
          "2019-11-01",
          "2019-11-02",
          "2019-11-03",
          "2019-11-04",
          "2019-11-05",
          "2019-11-06",
          "2019-11-07",
          "2019-11-08",
          "2019-11-09",
          "2019-11-10",
          "2019-11-11",
          "2019-11-12",
          "2019-11-13",
          "2019-11-14",
          "2019-11-15",
          "2019-11-16",
          "2019-11-17",
          "2019-11-18",
          "2019-11-19",
          "2019-11-20",
          "2019-11-21",
          "2019-11-22",
          "2019-11-23",
          "2019-11-24",
          "2019-11-25",
          "2019-11-26",
          "2019-11-27",
          "2019-11-28",
          "2019-11-29",
          "2019-11-30",
          "2019-12-01",
          "2019-12-02",
          "2019-12-03",
          "2019-12-04",
          "2019-12-05",
          "2019-12-06",
          "2019-12-07",
          "2019-12-08",
          "2019-12-09",
          "2019-12-10",
          "2019-12-11",
          "2019-12-12",
          "2019-12-13",
          "2019-12-14",
          "2019-12-15",
          "2019-12-16",
          "2019-12-17",
          "2019-12-18",
          "2019-12-19",
          "2019-12-20",
          "2019-12-21",
          "2019-12-22",
          "2019-12-23",
          "2019-12-24",
          "2019-12-25",
          "2019-12-26",
          "2019-12-27",
          "2019-12-28",
          "2019-12-29",
          "2019-12-30",
          "2019-12-31",
          "2020-01-01",
          "2020-01-02",
          "2020-01-03",
          "2020-01-04",
          "2020-01-05",
          "2020-01-06",
          "2020-01-07",
          "2020-01-08",
          "2020-01-09",
          "2020-01-10",
          "2020-01-11",
          "2020-01-12",
          "2020-01-13",
          "2020-01-14",
          "2020-01-15",
          "2020-01-16",
          "2020-01-17",
          "2020-01-18",
          "2020-01-19",
          "2020-01-20",
          "2020-01-21",
          "2020-01-22",
          "2020-01-23",
          "2020-01-24",
          "2020-01-25",
          "2020-01-26",
          "2020-01-27",
          "2020-01-28",
          "2020-01-29",
          "2020-01-30",
          "2020-01-31",
          "2020-02-01",
          "2020-02-02",
          "2020-02-03",
          "2020-02-04",
          "2020-02-05",
          "2020-02-06",
          "2020-02-07",
          "2020-02-08",
          "2020-02-09",
          "2020-02-10",
          "2020-02-11",
          "2020-02-12",
          "2020-02-13",
          "2020-02-14",
          "2020-02-15",
          "2020-02-16",
          "2020-02-17",
          "2020-02-18",
          "2020-02-19",
          "2020-02-20",
          "2020-02-21",
          "2020-02-22",
          "2020-02-23",
          "2020-02-24",
          "2020-02-25",
          "2020-02-26",
          "2020-02-27",
          "2020-02-28",
          "2020-02-29",
          "2020-03-01",
          "2020-03-02",
          "2020-03-03",
          "2020-03-04",
          "2020-03-05",
          "2020-03-06",
          "2020-03-07",
          "2020-03-08",
          "2020-03-09",
          "2020-03-10",
          "2020-03-11",
          "2020-03-12",
          "2020-03-13",
          "2020-03-14",
          "2020-03-15",
          "2020-03-16",
          "2020-03-17",
          "2020-03-18",
          "2020-03-19",
          "2020-03-20",
          "2020-03-21",
          "2020-03-22",
          "2020-03-23",
          "2020-03-24",
          "2020-03-25",
          "2020-03-26",
          "2020-03-27",
          "2020-03-28",
          "2020-03-29",
          "2020-03-30",
          "2020-03-31",
          "2020-04-01",
          "2020-04-02",
          "2020-04-03",
          "2020-04-04",
          "2020-04-05",
          "2020-04-06",
          "2020-04-07",
          "2020-04-08",
          "2020-04-09",
          "2020-04-10",
          "2020-04-11",
          "2020-04-12",
          "2020-04-13",
          "2020-04-14",
          "2020-04-15",
          "2020-04-16",
          "2020-04-17",
          "2020-04-18",
          "2020-04-19",
          "2020-04-20",
          "2020-04-21",
          "2020-04-22",
          "2020-04-23",
          "2020-04-24",
          "2020-04-25",
          "2020-04-26",
          "2020-04-27",
          "2020-04-28",
          "2020-04-29",
          "2020-04-30",
          "2020-05-01",
          "2020-05-02",
          "2020-05-03",
          "2020-05-04",
          "2020-05-05",
          "2020-05-06",
          "2020-05-07",
          "2020-05-08",
          "2020-05-09",
          "2020-05-10",
          "2020-05-11",
          "2020-05-12",
          "2020-05-13",
          "2020-05-14",
          "2020-05-15",
          "2020-05-16",
          "2020-05-17",
          "2020-05-18",
          "2020-05-19",
          "2020-05-20",
          "2020-05-21",
          "2020-05-22",
          "2020-05-23",
          "2020-05-24",
          "2020-05-25",
          "2020-05-26",
          "2020-05-27",
          "2020-05-28",
          "2020-05-29",
          "2020-05-30",
          "2020-05-31",
          "2020-06-01",
          "2020-06-02",
          "2020-06-03",
          "2020-06-04",
          "2020-06-05",
          "2020-06-06",
          "2020-06-07",
          "2020-06-08",
          "2020-06-09",
          "2020-06-10",
          "2020-06-11",
          "2020-06-12",
          "2020-06-13",
          "2020-06-14",
          "2020-06-15",
          "2020-06-16",
          "2020-06-17",
          "2020-06-18",
          "2020-06-19",
          "2020-06-20",
          "2020-06-21",
          "2020-06-22",
          "2020-06-23",
          "2020-06-24",
          "2020-06-25",
          "2020-06-26",
          "2020-06-27",
          "2020-06-28",
          "2020-06-29",
          "2020-06-30",
          "2020-07-01",
          "2020-07-02",
          "2020-07-03",
          "2020-07-04",
          "2020-07-05",
          "2020-07-06",
          "2020-07-07",
          "2020-07-08",
          "2020-07-09",
          "2020-07-10",
          "2020-07-11",
          "2020-07-12",
          "2020-07-13",
          "2020-07-14",
          "2020-07-15",
          "2020-07-16",
          "2020-07-17",
          "2020-07-18",
          "2020-07-19",
          "2020-07-20",
          "2020-07-21",
          "2020-07-22",
          "2020-07-23",
          "2020-07-24",
          "2020-07-25",
          "2020-07-26",
          "2020-07-27",
          "2020-07-28",
          "2020-07-29",
          "2020-07-30",
          "2020-07-31",
          "2020-08-01",
          "2020-08-02",
          "2020-08-03",
          "2020-08-04",
          "2020-08-05",
          "2020-08-06",
          "2020-08-07",
          "2020-08-08",
          "2020-08-09",
          "2020-08-10",
          "2020-08-11",
          "2020-08-12",
          "2020-08-13",
          "2020-08-14",
          "2020-08-15",
          "2020-08-16",
          "2020-08-17",
          "2020-08-18",
          "2020-08-19",
          "2020-08-20",
          "2020-08-21",
          "2020-08-22",
          "2020-08-23",
          "2020-08-24",
          "2020-08-25",
          "2020-08-26",
          "2020-08-27",
          "2020-08-28",
          "2020-08-29",
          "2020-08-30",
          "2020-08-31",
          "2020-09-01",
          "2020-09-02",
          "2020-09-03",
          "2020-09-04",
          "2020-09-05",
          "2020-09-06",
          "2020-09-07",
          "2020-09-08",
          "2020-09-09",
          "2020-09-10",
          "2020-09-11",
          "2020-09-12",
          "2020-09-13",
          "2020-09-14",
          "2020-09-15",
          "2020-09-16",
          "2020-09-17",
          "2020-09-18",
          "2020-09-19",
          "2020-09-20",
          "2020-09-21",
          "2020-09-22",
          "2020-09-23",
          "2020-09-24",
          "2020-09-25",
          "2020-09-26",
          "2020-09-27",
          "2020-09-28",
          "2020-09-29",
          "2020-09-30",
          "2020-10-01",
          "2020-10-02",
          "2020-10-03",
          "2020-10-04",
          "2020-10-05",
          "2020-10-06",
          "2020-10-07",
          "2020-10-08",
          "2020-10-09",
          "2020-10-10",
          "2020-10-11",
          "2020-10-12",
          "2020-10-13",
          "2020-10-14",
          "2020-10-15",
          "2020-10-16",
          "2020-10-17",
          "2020-10-18",
          "2020-10-19",
          "2020-10-20",
          "2020-10-21",
          "2020-10-22",
          "2020-10-23",
          "2020-10-24",
          "2020-10-25",
          "2020-10-26",
          "2020-10-27",
          "2020-10-28",
          "2020-10-29",
          "2020-10-30",
          "2020-10-31",
          "2020-11-01",
          "2020-11-02",
          "2020-11-03",
          "2020-11-04",
          "2020-11-05",
          "2020-11-06",
          "2020-11-07",
          "2020-11-08",
          "2020-11-09",
          "2020-11-10",
          "2020-11-11",
          "2020-11-12",
          "2020-11-13",
          "2020-11-14",
          "2020-11-15",
          "2020-11-16",
          "2020-11-17",
          "2020-11-18",
          "2020-11-19",
          "2020-11-20"
         ],
         "xaxis": "x",
         "y": [
          8.18625886932056,
          8.178613507126345,
          8.182374326622227,
          8.185476577793153,
          8.202909931903992,
          8.263742060811905,
          8.267369803439195,
          8.283230421865523,
          8.27329998144818,
          8.283962853584208,
          8.32611116302095,
          8.226009030605388,
          8.250367490484974,
          8.242711901042616,
          8.245859432472674,
          8.245988401726628,
          8.247985868157865,
          8.248610586683574,
          8.24064436283736,
          8.219302895361144,
          8.258051507394123,
          8.25790497677278,
          8.260579103887904,
          8.254720186136678,
          8.274816567383843,
          8.269049900502985,
          8.258505848360414,
          8.2610122002328,
          8.257567436147209,
          8.26088416030379,
          8.271074714910386,
          8.293834313170848,
          8.287312751894646,
          8.28701265323556,
          8.29554293857666,
          8.302249586460336,
          8.290671794098243,
          8.289641843021705,
          8.29214247862517,
          8.288741583261437,
          8.273888161271337,
          8.278218431701804,
          8.320363499712155,
          8.319392562902188,
          8.319476280057653,
          8.329408095918954,
          8.496432818836428,
          8.510281172355628,
          8.499988792024688,
          8.525707677680328,
          8.52804886440272,
          8.557913247876986,
          8.573241217659548,
          8.555530786851216,
          8.578784748141578,
          8.5303566960771,
          8.53609762506509,
          8.533743614062438,
          8.55122933925345,
          8.525296385877725,
          8.559076549466898,
          8.562878895255269,
          8.574926469701065,
          8.575231604865149,
          8.581584908528624,
          8.578632803202813,
          8.593565306021025,
          8.619808939363205,
          8.606925007769519,
          8.547725360947151,
          8.55943991580672,
          8.559301565107916,
          8.562298227739909,
          8.557188297918806,
          8.579207149211266,
          8.585365272360105,
          8.599754716818689,
          8.648586776382475,
          8.661856318815872,
          8.654753287854616,
          8.65278638217345,
          8.660032520384929,
          8.69280724445174,
          8.724921235524853,
          8.75603528511286,
          8.875273932718654,
          8.84923605741434,
          8.962705711637144,
          8.991778469735193,
          9.010946826333116,
          8.969519133001569,
          8.909198548112277,
          8.894141242644354,
          9.011185924018475,
          8.987485433634243,
          8.983003685369866,
          8.94191381600628,
          8.972435786923457,
          8.988617491031762,
          8.997879819187235,
          9.076528600849281,
          9.082392596081457,
          9.074944020024159,
          9.068754013500602,
          9.021671834647542,
          9.056322440270836,
          9.057192773711026,
          9.077808529806049,
          9.003877619333696,
          8.949623049504883,
          8.965706516762951,
          8.965041898169996,
          8.990296341929215,
          8.982105402109651,
          8.945460760985378,
          8.992179650967884,
          8.97903930113924,
          9.011404425777183,
          9.01688653217433,
          9.07295427356729,
          9.08972444963273,
          9.105324071513953,
          9.142566818640057,
          9.115877938573314,
          9.136188765424341,
          9.163201562175283,
          9.234497971814216,
          9.281100107945043,
          9.295553749650036,
          9.310696081388585,
          9.374335770941274,
          9.474173404659968,
          9.33195994306536,
          9.43044958513915,
          9.39164527240014,
          9.295321182786004,
          9.275605374505982,
          9.29676820234393,
          9.393960778316417,
          9.325021745202513,
          9.31287289484925,
          9.33225889510436,
          9.349872132296268,
          9.418896863808563,
          9.44017555525796,
          9.403054969203716,
          9.341260747334918,
          9.377919454895952,
          9.342334867779591,
          9.236192006299834,
          9.295558951531106,
          9.154426279388517,
          9.180710939102354,
          9.272659333493964,
          9.264672838886776,
          9.284866620297374,
          9.268882341117493,
          9.243821717190828,
          9.198189439393175,
          9.188129339527203,
          9.200564908038904,
          9.19484059728986,
          9.1561563383725,
          9.163000059408784,
          9.159518920569012,
          9.167939792771486,
          9.220697830832586,
          9.247723243293823,
          9.260203935560567,
          9.2880063871523,
          9.302102771480246,
          9.374246535075335,
          9.34803337278439,
          9.388626069050042,
          9.390737371246804,
          9.381656596901554,
          9.332188566200946,
          9.353994198960047,
          9.340735248134106,
          9.295988369144109,
          9.213218962954837,
          9.240986241980359,
          9.244995166593158,
          9.232146990430275,
          9.242281513609859,
          9.29910263086047,
          9.283207200100634,
          9.225389040527274,
          9.221700208909768,
          9.245501732769009,
          9.224947722062227,
          9.22248570630308,
          9.248305544672155,
          9.226126612417358,
          9.182944199636921,
          9.159830992352413,
          9.168724921294494,
          9.170799057243707,
          9.186065840512716,
          9.24709906308895,
          9.268836088245171,
          9.265520806899415,
          9.26801522783699,
          9.241066105321718,
          9.258736347796928,
          9.251107538945435,
          9.241834118674612,
          9.221253286525693,
          9.228010290586653,
          9.252092102861607,
          9.24578941352154,
          9.246107253764755,
          9.24133310574343,
          9.238793646162252,
          9.228334611693377,
          9.227257639445924,
          9.235935636370883,
          9.22617534490399,
          9.208396345881349,
          9.213649786816976,
          9.179245092343562,
          9.051554450009924,
          9.043685515547182,
          8.996556294939314,
          9.010138568333746,
          9.01470503304554,
          8.994833109972145,
          9.028856162029486,
          9.026080821124284,
          9.033987828802353,
          9.016178585089992,
          9.004164336624381,
          9.000694532927936,
          8.97215470262935,
          9.013070226451338,
          9.005995671181,
          9.05762381911374,
          9.058207063669263,
          9.021661638244458,
          9.025962328662608,
          9.023355398939918,
          9.029914143711817,
          9.008840013249738,
          8.986896791657772,
          8.99585596507476,
          8.981708500472845,
          8.983101520229827,
          9.016441143605718,
          9.01453325478639,
          8.992078163623699,
          8.92164573692254,
          8.912318211528452,
          9.066647837243933,
          9.131266375525387,
          9.161810127374734,
          9.128721945651478,
          9.149966839671638,
          9.122763637201954,
          9.120715873538487,
          9.133330192088765,
          9.139115855112868,
          9.128713896237175,
          9.15087443263412,
          9.140545272540422,
          9.14127208403834,
          9.128081442487955,
          9.079995942442773,
          9.084432490179703,
          9.109827085940815,
          9.074045507907927,
          9.083846323173098,
          9.0783448492423,
          9.062647564929287,
          9.044353212645712,
          9.047731463959874,
          9.049165087265669,
          9.010049104422158,
          9.002973377363356,
          8.998566242890883,
          8.9409191538011,
          8.896135551874703,
          8.90044932589782,
          8.84314488901507,
          8.871820813521126,
          8.866083066189876,
          8.925405560212251,
          8.913310171206883,
          8.955526250392092,
          8.93026251273783,
          8.9077587918833,
          8.894728567742725,
          8.895077185390555,
          8.882102376826122,
          8.90677740067668,
          8.928406903924078,
          8.922334174468217,
          8.924725188969349,
          8.90089513137535,
          8.884507060221368,
          8.880749340861493,
          8.879668813663246,
          8.890206928793372,
          8.862313598718092,
          8.869064000556891,
          8.837255714280525,
          8.798024435490927,
          8.893389296317727,
          8.874164659847237,
          8.882046071751564,
          8.873941603696105,
          8.923982122350834,
          8.898304193594186,
          8.890009110212056,
          8.880839333888003,
          8.88177780398744,
          8.886422271837377,
          8.894949594596897,
          8.904915398143661,
          8.88264549210727,
          8.874099616921045,
          8.878970324363385,
          8.847611444891763,
          8.898805546506559,
          8.900547869851676,
          8.900716777534956,
          8.95570129455467,
          9.00573687759957,
          8.992909003164264,
          8.964001036642692,
          9.007435420800338,
          8.985740550815576,
          9.005342517919187,
          8.998338709644536,
          9.078625688136482,
          9.076817179203756,
          9.070562060607053,
          9.089859105567049,
          9.088328203091793,
          9.06840982096818,
          9.06185232669523,
          9.071789403131515,
          9.064090797512305,
          9.034803669513716,
          9.039285053670827,
          9.028636647524515,
          9.057410249515632,
          9.090381189103077,
          9.143322310945413,
          9.133417781528816,
          9.161948694350441,
          9.143005367040148,
          9.151983647990507,
          9.1418367629237,
          9.133082613387785,
          9.124400104525684,
          9.172610758093631,
          9.187697786493592,
          9.194845494701573,
          9.194948285859855,
          9.228762980818107,
          9.19822487514494,
          9.239818841476575,
          9.247948225266127,
          9.23349380922906,
          9.251837346997837,
          9.19938613105689,
          9.202936168891963,
          9.187822601047275,
          9.229258960978575,
          9.171396763745786,
          9.174816270367664,
          9.182283123250697,
          9.180773797110431,
          9.21060499436059,
          9.177127500140577,
          9.139135534967709,
          9.083439777113048,
          9.082212966560748,
          9.071058967674109,
          9.054859023802367,
          9.047258481928202,
          9.101670757507295,
          9.078759211839994,
          9.086599942372079,
          9.11075844683555,
          9.137617952470148,
          9.09218373527712,
          8.985625654902217,
          8.986274549375525,
          8.981731612455736,
          8.981986184218986,
          8.50306721636661,
          8.653457617998738,
          8.561190579418058,
          8.590723019148104,
          8.530120055520564,
          8.589130780377102,
          8.601818302286192,
          8.739550848236252,
          8.73304298833601,
          8.733659623019287,
          8.672741398875253,
          8.778650759266247,
          8.817773749095672,
          8.807893361775138,
          8.817034350652575,
          8.761945468558121,
          8.745118529821767,
          8.683383672511937,
          8.768180845578962,
          8.77022508647305,
          8.803386508020772,
          8.828109466129,
          8.817809857475243,
          8.835513224433942,
          8.823533992308356,
          8.905044179330599,
          8.879106603868758,
          8.907328019230453,
          8.894898192031802,
          8.838442005085934,
          8.839436506944471,
          8.842745385816153,
          8.833865466137718,
          8.835922849408906,
          8.800628450708984,
          8.868378486065415,
          8.860442747182187,
          8.893328675538182,
          8.874429964679313,
          8.830257730015674,
          8.835393129459307,
          8.873730818007374,
          8.919201492177804,
          8.924211325754635,
          8.9305668162039,
          8.950612476920849,
          8.96246659053282,
          8.958097930181049,
          9.078218053340459,
          9.064643263416118,
          9.085143985336279,
          9.104905532889772,
          9.096196213044927,
          9.093396025621583,
          9.10774272363854,
          9.11973669505096,
          9.20759500921411,
          9.194705576965989,
          9.16681668220344,
          9.076837636769604,
          9.060699588046585,
          9.084774422806644,
          9.138587753566982,
          9.189643948106824,
          9.139079481083675,
          9.147304307292101,
          9.17898564930752,
          9.184354189705195,
          9.189314486042136,
          9.160983865750358,
          9.113265931889526,
          9.128308669329604,
          9.125903089596912,
          9.076201661028358,
          9.093516211776755,
          9.088299503074289,
          9.129739883546879,
          9.168778091428496,
          9.152653300998141,
          9.181947899899104,
          9.153336110807041,
          9.227187984670989,
          9.165232285794847,
          9.179471899104335,
          9.18931680018853,
          9.175117849236756,
          9.179642625218502,
          9.188074835325196,
          9.190603860768286,
          9.188597860789338,
          9.20049400744033,
          9.136240335452513,
          9.15914752096508,
          9.160852215872046,
          9.143843876697666,
          9.153177976693014,
          9.164900187304402,
          9.157096273375252,
          9.150162513314976,
          9.141567988679924,
          9.146435352214235,
          9.139439640431092,
          9.176545151853999,
          9.17448582724357,
          9.14124095524206,
          9.134375023381672,
          9.125527538236406,
          9.107332874354372,
          9.12191497143539,
          9.129765068848863,
          9.124812050715551,
          9.134370245781637,
          9.11790586918645,
          9.116167813185621,
          9.126034145927838,
          9.12080374788681,
          9.14564356428529,
          9.138200117027301,
          9.15437536357989,
          9.135021100095068,
          9.139367717189513,
          9.135560068673902,
          9.143186395862847,
          9.13353410886132,
          9.135523094016872,
          9.129954565809422,
          9.123397623504289,
          9.126233122758677,
          9.130077837900927,
          9.135183567713385,
          9.12706198227506,
          9.1505091426157,
          9.171932064563974,
          9.17350500922721,
          9.164951451573732,
          9.193251750448269,
          9.204497311598717,
          9.3020611185568,
          9.301011930172566,
          9.314341429909957,
          9.322975324831464,
          9.340482080105945,
          9.350941063633233,
          9.313810752413355,
          9.32580228809539,
          9.32297792975957,
          9.371526624218973,
          9.372623310965388,
          9.358641325439123,
          9.377985335628278,
          9.365575241000728,
          9.383984464743166,
          9.341629836494414,
          9.350817100743715,
          9.381422194448486,
          9.372090053148316,
          9.378436935845953,
          9.385950868144201,
          9.413604067932203,
          9.388225282979432,
          9.373396396027852,
          9.381473945957488,
          9.348900935680545,
          9.366929489710056,
          9.362172082328089,
          9.375161232187338,
          9.335631054767227,
          9.34487194753845,
          9.335034496369943,
          9.351274903035224,
          9.346058436103515,
          9.37553985501304,
          9.366668189917407,
          9.38569831021052,
          9.344730111615485,
          9.229980455376545,
          9.25651397440786,
          9.2256279652606,
          9.23867092226386,
          9.248062101252742,
          9.223809511090169,
          9.233450170332846,
          9.24529089950427,
          9.249187996213525,
          9.256227225328864,
          9.244077488233101,
          9.275104439488757,
          9.28634216012068,
          9.30100675466214,
          9.30138962527629,
          9.30114762544411,
          9.314230094838369,
          9.298383317740742,
          9.252719678057074,
          9.263808087610439,
          9.23260858134291,
          9.281009249273751,
          9.278746708058202,
          9.281667669728641,
          9.285487721033398,
          9.276381842962342,
          9.291078138409636,
          9.286282947244569,
          9.270295622707888,
          9.267181271736092,
          9.264253087353143,
          9.276962650426487,
          9.286218492242886,
          9.269534941637634,
          9.27571102292269,
          9.299624280409077,
          9.311149228311425,
          9.33245189694731,
          9.339919721794468,
          9.354388475884152,
          9.345517481615282,
          9.34398715359314,
          9.351098050528446,
          9.334514927261916,
          9.338825030232803,
          9.352295503639471,
          9.3714062705256,
          9.38485847831001,
          9.456267649437718,
          9.471161329465556,
          9.466235297554892,
          9.481135158288058,
          9.474806850473328,
          9.477749398667367,
          9.5216164609045,
          9.49467606080168,
          9.50766327541079,
          9.516239455666806,
          9.532177051339968,
          9.534101574752365,
          9.514664349768683,
          9.546311611619366,
          9.56176435154032,
          9.649675184528466,
          9.657736656418956,
          9.605318070680978,
          9.646286970822116,
          9.638945155068289,
          9.63797252353908,
          9.66299451875523,
          9.698010932016505,
          9.7007650530018,
          9.685410113651157,
          9.67710645232426,
          9.722038712993667,
          9.779587859809302,
          9.78799944983674,
          9.7889328349426,
          9.835910992802441
         ],
         "yaxis": "y"
        },
        {
         "name": "Predicted Price",
         "type": "scatter",
         "x": [
          "2020-11-21",
          "2020-11-22",
          "2020-11-23",
          "2020-11-24",
          "2020-11-25",
          "2020-11-26",
          "2020-11-27",
          "2020-11-28",
          "2020-11-29",
          "2020-11-30",
          "2020-12-01",
          "2020-12-02",
          "2020-12-03",
          "2020-12-04",
          "2020-12-05",
          "2020-12-06",
          "2020-12-07",
          "2020-12-08",
          "2020-12-09",
          "2020-12-10",
          "2020-12-11",
          "2020-12-12",
          "2020-12-13",
          "2020-12-14",
          "2020-12-15",
          "2020-12-16",
          "2020-12-17",
          "2020-12-18",
          "2020-12-19",
          "2020-12-20",
          "2020-12-21",
          "2020-12-22",
          "2020-12-23",
          "2020-12-24",
          "2020-12-25",
          "2020-12-26",
          "2020-12-27",
          "2020-12-28",
          "2020-12-29",
          "2020-12-30",
          "2020-12-31",
          "2021-01-01",
          "2021-01-02",
          "2021-01-03",
          "2021-01-04",
          "2021-01-05",
          "2021-01-06",
          "2021-01-07",
          "2021-01-08",
          "2021-01-09",
          "2021-01-10",
          "2021-01-11",
          "2021-01-12",
          "2021-01-13",
          "2021-01-14",
          "2021-01-15",
          "2021-01-16",
          "2021-01-17",
          "2021-01-18",
          "2021-01-19",
          "2021-01-20",
          "2021-01-21",
          "2021-01-22",
          "2021-01-23",
          "2021-01-24",
          "2021-01-25",
          "2021-01-26",
          "2021-01-27",
          "2021-01-28",
          "2021-01-29",
          "2021-01-30",
          "2021-01-31"
         ],
         "xaxis": "x",
         "y": [
          33826.006795002875,
          33856.50370090809,
          34034.21588339427,
          34098.9080735179,
          34069.822429571024,
          34044.03150890088,
          34051.35370940993,
          34064.6491409744,
          34067.43037564275,
          34064.14560990532,
          34062.57755752983,
          34063.47900293706,
          34064.431342226024,
          34064.46013426076,
          34064.16602863074,
          34064.08745088704,
          34064.17996868245,
          34064.24203192705,
          34064.2311454466,
          34064.2076671785,
          34064.205558353475,
          34064.213891622094,
          34064.217476736216,
          34064.21576545352,
          34064.21407402528,
          34064.21423240109,
          34064.214914496995,
          34064.21508040668,
          34064.21489667146,
          34064.21478764794,
          34064.21482338459,
          34064.214874659025,
          34064.214878242834,
          34064.214861544235,
          34064.21485553086,
          34064.21485983603,
          34064.21486336176,
          34064.21486293456,
          34064.21486157575,
          34064.21486133468,
          34064.21486175512,
          34064.21486197206,
          34064.21486188988,
          34064.21486178924,
          34064.214861789085,
          34064.21486182537,
          34064.214861836575,
          34064.21486182714,
          34064.21486182038,
          34064.214861821754,
          34064.2148618246,
          34064.21486182498,
          34064.21486182408,
          34064.21486182368,
          34064.214861823886,
          34064.21486182409,
          34064.21486182408,
          34064.21486182401,
          34064.21486182399,
          34064.21486182401,
          34064.214861824024,
          34064.214861824024,
          34064.21486182402,
          34064.21486182402,
          34064.21486182402,
          34064.21486182402,
          34064.21486182402,
          34064.21486182402,
          34064.21486182402,
          34064.21486182402,
          34064.21486182402,
          34064.21486182402
         ],
         "yaxis": "y"
        }
       ],
       "layout": {
        "template": {
         "data": {
          "bar": [
           {
            "error_x": {
             "color": "#2a3f5f"
            },
            "error_y": {
             "color": "#2a3f5f"
            },
            "marker": {
             "line": {
              "color": "#E5ECF6",
              "width": 0.5
             }
            },
            "type": "bar"
           }
          ],
          "barpolar": [
           {
            "marker": {
             "line": {
              "color": "#E5ECF6",
              "width": 0.5
             }
            },
            "type": "barpolar"
           }
          ],
          "carpet": [
           {
            "aaxis": {
             "endlinecolor": "#2a3f5f",
             "gridcolor": "white",
             "linecolor": "white",
             "minorgridcolor": "white",
             "startlinecolor": "#2a3f5f"
            },
            "baxis": {
             "endlinecolor": "#2a3f5f",
             "gridcolor": "white",
             "linecolor": "white",
             "minorgridcolor": "white",
             "startlinecolor": "#2a3f5f"
            },
            "type": "carpet"
           }
          ],
          "choropleth": [
           {
            "colorbar": {
             "outlinewidth": 0,
             "ticks": ""
            },
            "type": "choropleth"
           }
          ],
          "contour": [
           {
            "colorbar": {
             "outlinewidth": 0,
             "ticks": ""
            },
            "colorscale": [
             [
              0,
              "#0d0887"
             ],
             [
              0.1111111111111111,
              "#46039f"
             ],
             [
              0.2222222222222222,
              "#7201a8"
             ],
             [
              0.3333333333333333,
              "#9c179e"
             ],
             [
              0.4444444444444444,
              "#bd3786"
             ],
             [
              0.5555555555555556,
              "#d8576b"
             ],
             [
              0.6666666666666666,
              "#ed7953"
             ],
             [
              0.7777777777777778,
              "#fb9f3a"
             ],
             [
              0.8888888888888888,
              "#fdca26"
             ],
             [
              1,
              "#f0f921"
             ]
            ],
            "type": "contour"
           }
          ],
          "contourcarpet": [
           {
            "colorbar": {
             "outlinewidth": 0,
             "ticks": ""
            },
            "type": "contourcarpet"
           }
          ],
          "heatmap": [
           {
            "colorbar": {
             "outlinewidth": 0,
             "ticks": ""
            },
            "colorscale": [
             [
              0,
              "#0d0887"
             ],
             [
              0.1111111111111111,
              "#46039f"
             ],
             [
              0.2222222222222222,
              "#7201a8"
             ],
             [
              0.3333333333333333,
              "#9c179e"
             ],
             [
              0.4444444444444444,
              "#bd3786"
             ],
             [
              0.5555555555555556,
              "#d8576b"
             ],
             [
              0.6666666666666666,
              "#ed7953"
             ],
             [
              0.7777777777777778,
              "#fb9f3a"
             ],
             [
              0.8888888888888888,
              "#fdca26"
             ],
             [
              1,
              "#f0f921"
             ]
            ],
            "type": "heatmap"
           }
          ],
          "heatmapgl": [
           {
            "colorbar": {
             "outlinewidth": 0,
             "ticks": ""
            },
            "colorscale": [
             [
              0,
              "#0d0887"
             ],
             [
              0.1111111111111111,
              "#46039f"
             ],
             [
              0.2222222222222222,
              "#7201a8"
             ],
             [
              0.3333333333333333,
              "#9c179e"
             ],
             [
              0.4444444444444444,
              "#bd3786"
             ],
             [
              0.5555555555555556,
              "#d8576b"
             ],
             [
              0.6666666666666666,
              "#ed7953"
             ],
             [
              0.7777777777777778,
              "#fb9f3a"
             ],
             [
              0.8888888888888888,
              "#fdca26"
             ],
             [
              1,
              "#f0f921"
             ]
            ],
            "type": "heatmapgl"
           }
          ],
          "histogram": [
           {
            "marker": {
             "colorbar": {
              "outlinewidth": 0,
              "ticks": ""
             }
            },
            "type": "histogram"
           }
          ],
          "histogram2d": [
           {
            "colorbar": {
             "outlinewidth": 0,
             "ticks": ""
            },
            "colorscale": [
             [
              0,
              "#0d0887"
             ],
             [
              0.1111111111111111,
              "#46039f"
             ],
             [
              0.2222222222222222,
              "#7201a8"
             ],
             [
              0.3333333333333333,
              "#9c179e"
             ],
             [
              0.4444444444444444,
              "#bd3786"
             ],
             [
              0.5555555555555556,
              "#d8576b"
             ],
             [
              0.6666666666666666,
              "#ed7953"
             ],
             [
              0.7777777777777778,
              "#fb9f3a"
             ],
             [
              0.8888888888888888,
              "#fdca26"
             ],
             [
              1,
              "#f0f921"
             ]
            ],
            "type": "histogram2d"
           }
          ],
          "histogram2dcontour": [
           {
            "colorbar": {
             "outlinewidth": 0,
             "ticks": ""
            },
            "colorscale": [
             [
              0,
              "#0d0887"
             ],
             [
              0.1111111111111111,
              "#46039f"
             ],
             [
              0.2222222222222222,
              "#7201a8"
             ],
             [
              0.3333333333333333,
              "#9c179e"
             ],
             [
              0.4444444444444444,
              "#bd3786"
             ],
             [
              0.5555555555555556,
              "#d8576b"
             ],
             [
              0.6666666666666666,
              "#ed7953"
             ],
             [
              0.7777777777777778,
              "#fb9f3a"
             ],
             [
              0.8888888888888888,
              "#fdca26"
             ],
             [
              1,
              "#f0f921"
             ]
            ],
            "type": "histogram2dcontour"
           }
          ],
          "mesh3d": [
           {
            "colorbar": {
             "outlinewidth": 0,
             "ticks": ""
            },
            "type": "mesh3d"
           }
          ],
          "parcoords": [
           {
            "line": {
             "colorbar": {
              "outlinewidth": 0,
              "ticks": ""
             }
            },
            "type": "parcoords"
           }
          ],
          "pie": [
           {
            "automargin": true,
            "type": "pie"
           }
          ],
          "scatter": [
           {
            "marker": {
             "colorbar": {
              "outlinewidth": 0,
              "ticks": ""
             }
            },
            "type": "scatter"
           }
          ],
          "scatter3d": [
           {
            "line": {
             "colorbar": {
              "outlinewidth": 0,
              "ticks": ""
             }
            },
            "marker": {
             "colorbar": {
              "outlinewidth": 0,
              "ticks": ""
             }
            },
            "type": "scatter3d"
           }
          ],
          "scattercarpet": [
           {
            "marker": {
             "colorbar": {
              "outlinewidth": 0,
              "ticks": ""
             }
            },
            "type": "scattercarpet"
           }
          ],
          "scattergeo": [
           {
            "marker": {
             "colorbar": {
              "outlinewidth": 0,
              "ticks": ""
             }
            },
            "type": "scattergeo"
           }
          ],
          "scattergl": [
           {
            "marker": {
             "colorbar": {
              "outlinewidth": 0,
              "ticks": ""
             }
            },
            "type": "scattergl"
           }
          ],
          "scattermapbox": [
           {
            "marker": {
             "colorbar": {
              "outlinewidth": 0,
              "ticks": ""
             }
            },
            "type": "scattermapbox"
           }
          ],
          "scatterpolar": [
           {
            "marker": {
             "colorbar": {
              "outlinewidth": 0,
              "ticks": ""
             }
            },
            "type": "scatterpolar"
           }
          ],
          "scatterpolargl": [
           {
            "marker": {
             "colorbar": {
              "outlinewidth": 0,
              "ticks": ""
             }
            },
            "type": "scatterpolargl"
           }
          ],
          "scatterternary": [
           {
            "marker": {
             "colorbar": {
              "outlinewidth": 0,
              "ticks": ""
             }
            },
            "type": "scatterternary"
           }
          ],
          "surface": [
           {
            "colorbar": {
             "outlinewidth": 0,
             "ticks": ""
            },
            "colorscale": [
             [
              0,
              "#0d0887"
             ],
             [
              0.1111111111111111,
              "#46039f"
             ],
             [
              0.2222222222222222,
              "#7201a8"
             ],
             [
              0.3333333333333333,
              "#9c179e"
             ],
             [
              0.4444444444444444,
              "#bd3786"
             ],
             [
              0.5555555555555556,
              "#d8576b"
             ],
             [
              0.6666666666666666,
              "#ed7953"
             ],
             [
              0.7777777777777778,
              "#fb9f3a"
             ],
             [
              0.8888888888888888,
              "#fdca26"
             ],
             [
              1,
              "#f0f921"
             ]
            ],
            "type": "surface"
           }
          ],
          "table": [
           {
            "cells": {
             "fill": {
              "color": "#EBF0F8"
             },
             "line": {
              "color": "white"
             }
            },
            "header": {
             "fill": {
              "color": "#C8D4E3"
             },
             "line": {
              "color": "white"
             }
            },
            "type": "table"
           }
          ]
         },
         "layout": {
          "annotationdefaults": {
           "arrowcolor": "#2a3f5f",
           "arrowhead": 0,
           "arrowwidth": 1
          },
          "autotypenumbers": "strict",
          "coloraxis": {
           "colorbar": {
            "outlinewidth": 0,
            "ticks": ""
           }
          },
          "colorscale": {
           "diverging": [
            [
             0,
             "#8e0152"
            ],
            [
             0.1,
             "#c51b7d"
            ],
            [
             0.2,
             "#de77ae"
            ],
            [
             0.3,
             "#f1b6da"
            ],
            [
             0.4,
             "#fde0ef"
            ],
            [
             0.5,
             "#f7f7f7"
            ],
            [
             0.6,
             "#e6f5d0"
            ],
            [
             0.7,
             "#b8e186"
            ],
            [
             0.8,
             "#7fbc41"
            ],
            [
             0.9,
             "#4d9221"
            ],
            [
             1,
             "#276419"
            ]
           ],
           "sequential": [
            [
             0,
             "#0d0887"
            ],
            [
             0.1111111111111111,
             "#46039f"
            ],
            [
             0.2222222222222222,
             "#7201a8"
            ],
            [
             0.3333333333333333,
             "#9c179e"
            ],
            [
             0.4444444444444444,
             "#bd3786"
            ],
            [
             0.5555555555555556,
             "#d8576b"
            ],
            [
             0.6666666666666666,
             "#ed7953"
            ],
            [
             0.7777777777777778,
             "#fb9f3a"
            ],
            [
             0.8888888888888888,
             "#fdca26"
            ],
            [
             1,
             "#f0f921"
            ]
           ],
           "sequentialminus": [
            [
             0,
             "#0d0887"
            ],
            [
             0.1111111111111111,
             "#46039f"
            ],
            [
             0.2222222222222222,
             "#7201a8"
            ],
            [
             0.3333333333333333,
             "#9c179e"
            ],
            [
             0.4444444444444444,
             "#bd3786"
            ],
            [
             0.5555555555555556,
             "#d8576b"
            ],
            [
             0.6666666666666666,
             "#ed7953"
            ],
            [
             0.7777777777777778,
             "#fb9f3a"
            ],
            [
             0.8888888888888888,
             "#fdca26"
            ],
            [
             1,
             "#f0f921"
            ]
           ]
          },
          "colorway": [
           "#636efa",
           "#EF553B",
           "#00cc96",
           "#ab63fa",
           "#FFA15A",
           "#19d3f3",
           "#FF6692",
           "#B6E880",
           "#FF97FF",
           "#FECB52"
          ],
          "font": {
           "color": "#2a3f5f"
          },
          "geo": {
           "bgcolor": "white",
           "lakecolor": "white",
           "landcolor": "#E5ECF6",
           "showlakes": true,
           "showland": true,
           "subunitcolor": "white"
          },
          "hoverlabel": {
           "align": "left"
          },
          "hovermode": "closest",
          "mapbox": {
           "style": "light"
          },
          "paper_bgcolor": "white",
          "plot_bgcolor": "#E5ECF6",
          "polar": {
           "angularaxis": {
            "gridcolor": "white",
            "linecolor": "white",
            "ticks": ""
           },
           "bgcolor": "#E5ECF6",
           "radialaxis": {
            "gridcolor": "white",
            "linecolor": "white",
            "ticks": ""
           }
          },
          "scene": {
           "xaxis": {
            "backgroundcolor": "#E5ECF6",
            "gridcolor": "white",
            "gridwidth": 2,
            "linecolor": "white",
            "showbackground": true,
            "ticks": "",
            "zerolinecolor": "white"
           },
           "yaxis": {
            "backgroundcolor": "#E5ECF6",
            "gridcolor": "white",
            "gridwidth": 2,
            "linecolor": "white",
            "showbackground": true,
            "ticks": "",
            "zerolinecolor": "white"
           },
           "zaxis": {
            "backgroundcolor": "#E5ECF6",
            "gridcolor": "white",
            "gridwidth": 2,
            "linecolor": "white",
            "showbackground": true,
            "ticks": "",
            "zerolinecolor": "white"
           }
          },
          "shapedefaults": {
           "line": {
            "color": "#2a3f5f"
           }
          },
          "ternary": {
           "aaxis": {
            "gridcolor": "white",
            "linecolor": "white",
            "ticks": ""
           },
           "baxis": {
            "gridcolor": "white",
            "linecolor": "white",
            "ticks": ""
           },
           "bgcolor": "#E5ECF6",
           "caxis": {
            "gridcolor": "white",
            "linecolor": "white",
            "ticks": ""
           }
          },
          "title": {
           "x": 0.05
          },
          "xaxis": {
           "automargin": true,
           "gridcolor": "white",
           "linecolor": "white",
           "ticks": "",
           "title": {
            "standoff": 15
           },
           "zerolinecolor": "white",
           "zerolinewidth": 2
          },
          "yaxis": {
           "automargin": true,
           "gridcolor": "white",
           "linecolor": "white",
           "ticks": "",
           "title": {
            "standoff": 15
           },
           "zerolinecolor": "white",
           "zerolinewidth": 2
          }
         }
        },
        "xaxis": {
         "anchor": "y",
         "domain": [
          0,
          1
         ]
        },
        "yaxis": {
         "anchor": "x",
         "domain": [
          0,
          1
         ]
        }
       }
      }
     },
     "metadata": {}
    }
   ],
   "source": [
    "fc_series = pd.Series(fc, index=test_data.index)\n",
    "test_data=pd.DataFrame(test_data)\n",
    "train_data=pd.DataFrame(train_data)\n",
    "fc_series=pd.DataFrame(fc_series)\n",
    "genral_fig7 = make_subplots(specs=[[{\"secondary_y\": False}]])\n",
    "genral_fig7.add_trace(go.Scatter(y=test_data['close'], x=test_data.index, name=\"Actual Price\"),secondary_y=False,)\n",
    "genral_fig7.add_trace(go.Scatter(y=train_data['close'], x=train_data.index, name=\"Training\"),secondary_y=False,)\n",
    "genral_fig7.add_trace(go.Scatter(y=fc_series[0], x=fc_series.index, name=\"Predicted Price\"),secondary_y=False,)"
   ]
  },
  {
   "cell_type": "code",
   "execution_count": null,
   "metadata": {},
   "outputs": [],
   "source": []
  }
 ]
}